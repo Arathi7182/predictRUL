{
 "cells": [
  {
   "cell_type": "code",
   "execution_count": 1,
   "id": "892962c0",
   "metadata": {},
   "outputs": [],
   "source": [
    "import numpy as np\n",
    "import pandas as pd\n",
    "import keras\n",
    "import matplotlib.pyplot as plt\n",
    "import os\n",
    "import time\n",
    "import random\n",
    "# Setting seed for reproducibility\n",
    "np.random.seed(1234)  \n",
    "PYTHONHASHSEED = 0\n",
    "\n",
    "from sklearn import preprocessing\n",
    "from sklearn.metrics import confusion_matrix, recall_score, precision_score\n",
    "from keras.models import Sequential, load_model\n",
    "from keras.layers import Dense, Dropout, LSTM\n",
    "from sklearn.linear_model import LinearRegression\n",
    "from sklearn.metrics import mean_squared_error, r2_score\n",
    "from sklearn.preprocessing import StandardScaler\n",
    "from sklearn.model_selection import GroupShuffleSplit\n",
    "\n",
    "import tensorflow as tf\n",
    "from tensorflow.keras import Sequential\n",
    "from tensorflow.keras.layers import LSTM, Dense, Dropout, Masking, TimeDistributed"
   ]
  },
  {
   "cell_type": "code",
   "execution_count": 2,
   "id": "5fdd4f68",
   "metadata": {},
   "outputs": [],
   "source": [
    "# define filepath to read data\n",
    "dir_path = 'CMAPSS-Dataset/CMaps/'\n",
    "# define column names for easy indexing\n",
    "index_names = ['unit_nr', 'time_cycles']\n",
    "setting_names = ['setting_1', 'setting_2', 'setting_3']\n",
    "sensor_names = ['s_{}'.format(i) for i in range(1,22)] \n",
    "col_names = index_names + setting_names + sensor_names"
   ]
  },
  {
   "cell_type": "code",
   "execution_count": 3,
   "id": "0a5602a0",
   "metadata": {},
   "outputs": [],
   "source": [
    "train = pd.read_csv((dir_path+'train_FD001.txt'), sep='\\s+', header=None, names=col_names)\n",
    "test = pd.read_csv((dir_path+'test_FD001.txt'), sep='\\s+', header=None, names=col_names)\n",
    "y_test = pd.read_csv((dir_path+'RUL_FD001.txt'), sep='\\s+', header=None, names=['RUL'])"
   ]
  },
  {
   "cell_type": "code",
   "execution_count": 4,
   "id": "baede6da",
   "metadata": {},
   "outputs": [
    {
     "data": {
      "text/html": [
       "<div>\n",
       "<style scoped>\n",
       "    .dataframe tbody tr th:only-of-type {\n",
       "        vertical-align: middle;\n",
       "    }\n",
       "\n",
       "    .dataframe tbody tr th {\n",
       "        vertical-align: top;\n",
       "    }\n",
       "\n",
       "    .dataframe thead th {\n",
       "        text-align: right;\n",
       "    }\n",
       "</style>\n",
       "<table border=\"1\" class=\"dataframe\">\n",
       "  <thead>\n",
       "    <tr style=\"text-align: right;\">\n",
       "      <th></th>\n",
       "      <th>unit_nr</th>\n",
       "      <th>time_cycles</th>\n",
       "      <th>setting_1</th>\n",
       "      <th>setting_2</th>\n",
       "      <th>setting_3</th>\n",
       "      <th>s_1</th>\n",
       "      <th>s_2</th>\n",
       "      <th>s_3</th>\n",
       "      <th>s_4</th>\n",
       "      <th>s_5</th>\n",
       "      <th>...</th>\n",
       "      <th>s_12</th>\n",
       "      <th>s_13</th>\n",
       "      <th>s_14</th>\n",
       "      <th>s_15</th>\n",
       "      <th>s_16</th>\n",
       "      <th>s_17</th>\n",
       "      <th>s_18</th>\n",
       "      <th>s_19</th>\n",
       "      <th>s_20</th>\n",
       "      <th>s_21</th>\n",
       "    </tr>\n",
       "  </thead>\n",
       "  <tbody>\n",
       "    <tr>\n",
       "      <th>0</th>\n",
       "      <td>1</td>\n",
       "      <td>1</td>\n",
       "      <td>-0.0007</td>\n",
       "      <td>-0.0004</td>\n",
       "      <td>100.0</td>\n",
       "      <td>518.67</td>\n",
       "      <td>641.82</td>\n",
       "      <td>1589.70</td>\n",
       "      <td>1400.60</td>\n",
       "      <td>14.62</td>\n",
       "      <td>...</td>\n",
       "      <td>521.66</td>\n",
       "      <td>2388.02</td>\n",
       "      <td>8138.62</td>\n",
       "      <td>8.4195</td>\n",
       "      <td>0.03</td>\n",
       "      <td>392</td>\n",
       "      <td>2388</td>\n",
       "      <td>100.0</td>\n",
       "      <td>39.06</td>\n",
       "      <td>23.4190</td>\n",
       "    </tr>\n",
       "    <tr>\n",
       "      <th>1</th>\n",
       "      <td>1</td>\n",
       "      <td>2</td>\n",
       "      <td>0.0019</td>\n",
       "      <td>-0.0003</td>\n",
       "      <td>100.0</td>\n",
       "      <td>518.67</td>\n",
       "      <td>642.15</td>\n",
       "      <td>1591.82</td>\n",
       "      <td>1403.14</td>\n",
       "      <td>14.62</td>\n",
       "      <td>...</td>\n",
       "      <td>522.28</td>\n",
       "      <td>2388.07</td>\n",
       "      <td>8131.49</td>\n",
       "      <td>8.4318</td>\n",
       "      <td>0.03</td>\n",
       "      <td>392</td>\n",
       "      <td>2388</td>\n",
       "      <td>100.0</td>\n",
       "      <td>39.00</td>\n",
       "      <td>23.4236</td>\n",
       "    </tr>\n",
       "    <tr>\n",
       "      <th>2</th>\n",
       "      <td>1</td>\n",
       "      <td>3</td>\n",
       "      <td>-0.0043</td>\n",
       "      <td>0.0003</td>\n",
       "      <td>100.0</td>\n",
       "      <td>518.67</td>\n",
       "      <td>642.35</td>\n",
       "      <td>1587.99</td>\n",
       "      <td>1404.20</td>\n",
       "      <td>14.62</td>\n",
       "      <td>...</td>\n",
       "      <td>522.42</td>\n",
       "      <td>2388.03</td>\n",
       "      <td>8133.23</td>\n",
       "      <td>8.4178</td>\n",
       "      <td>0.03</td>\n",
       "      <td>390</td>\n",
       "      <td>2388</td>\n",
       "      <td>100.0</td>\n",
       "      <td>38.95</td>\n",
       "      <td>23.3442</td>\n",
       "    </tr>\n",
       "    <tr>\n",
       "      <th>3</th>\n",
       "      <td>1</td>\n",
       "      <td>4</td>\n",
       "      <td>0.0007</td>\n",
       "      <td>0.0000</td>\n",
       "      <td>100.0</td>\n",
       "      <td>518.67</td>\n",
       "      <td>642.35</td>\n",
       "      <td>1582.79</td>\n",
       "      <td>1401.87</td>\n",
       "      <td>14.62</td>\n",
       "      <td>...</td>\n",
       "      <td>522.86</td>\n",
       "      <td>2388.08</td>\n",
       "      <td>8133.83</td>\n",
       "      <td>8.3682</td>\n",
       "      <td>0.03</td>\n",
       "      <td>392</td>\n",
       "      <td>2388</td>\n",
       "      <td>100.0</td>\n",
       "      <td>38.88</td>\n",
       "      <td>23.3739</td>\n",
       "    </tr>\n",
       "    <tr>\n",
       "      <th>4</th>\n",
       "      <td>1</td>\n",
       "      <td>5</td>\n",
       "      <td>-0.0019</td>\n",
       "      <td>-0.0002</td>\n",
       "      <td>100.0</td>\n",
       "      <td>518.67</td>\n",
       "      <td>642.37</td>\n",
       "      <td>1582.85</td>\n",
       "      <td>1406.22</td>\n",
       "      <td>14.62</td>\n",
       "      <td>...</td>\n",
       "      <td>522.19</td>\n",
       "      <td>2388.04</td>\n",
       "      <td>8133.80</td>\n",
       "      <td>8.4294</td>\n",
       "      <td>0.03</td>\n",
       "      <td>393</td>\n",
       "      <td>2388</td>\n",
       "      <td>100.0</td>\n",
       "      <td>38.90</td>\n",
       "      <td>23.4044</td>\n",
       "    </tr>\n",
       "  </tbody>\n",
       "</table>\n",
       "<p>5 rows × 26 columns</p>\n",
       "</div>"
      ],
      "text/plain": [
       "   unit_nr  time_cycles  setting_1  setting_2  setting_3     s_1     s_2  \\\n",
       "0        1            1    -0.0007    -0.0004      100.0  518.67  641.82   \n",
       "1        1            2     0.0019    -0.0003      100.0  518.67  642.15   \n",
       "2        1            3    -0.0043     0.0003      100.0  518.67  642.35   \n",
       "3        1            4     0.0007     0.0000      100.0  518.67  642.35   \n",
       "4        1            5    -0.0019    -0.0002      100.0  518.67  642.37   \n",
       "\n",
       "       s_3      s_4    s_5  ...    s_12     s_13     s_14    s_15  s_16  s_17  \\\n",
       "0  1589.70  1400.60  14.62  ...  521.66  2388.02  8138.62  8.4195  0.03   392   \n",
       "1  1591.82  1403.14  14.62  ...  522.28  2388.07  8131.49  8.4318  0.03   392   \n",
       "2  1587.99  1404.20  14.62  ...  522.42  2388.03  8133.23  8.4178  0.03   390   \n",
       "3  1582.79  1401.87  14.62  ...  522.86  2388.08  8133.83  8.3682  0.03   392   \n",
       "4  1582.85  1406.22  14.62  ...  522.19  2388.04  8133.80  8.4294  0.03   393   \n",
       "\n",
       "   s_18   s_19   s_20     s_21  \n",
       "0  2388  100.0  39.06  23.4190  \n",
       "1  2388  100.0  39.00  23.4236  \n",
       "2  2388  100.0  38.95  23.3442  \n",
       "3  2388  100.0  38.88  23.3739  \n",
       "4  2388  100.0  38.90  23.4044  \n",
       "\n",
       "[5 rows x 26 columns]"
      ]
     },
     "execution_count": 4,
     "metadata": {},
     "output_type": "execute_result"
    }
   ],
   "source": [
    "train.head()"
   ]
  },
  {
   "cell_type": "code",
   "execution_count": 5,
   "id": "146e862f",
   "metadata": {},
   "outputs": [],
   "source": [
    "def add_remaining_useful_life(df):\n",
    "    \n",
    "    # Get the total number of cycles for each unit\n",
    "    grouped_by_unit = df.groupby(by=\"unit_nr\")\n",
    "    max_cycle = grouped_by_unit[\"time_cycles\"].max()\n",
    "    \n",
    "    # Merge the max cycle back into the original frame\n",
    "    result_frame = df.merge(max_cycle.to_frame(name='max_cycle'), left_on='unit_nr', right_index=True)\n",
    "    \n",
    "    # Calculate remaining useful life for each row\n",
    "    remaining_useful_life = result_frame[\"max_cycle\"] - result_frame[\"time_cycles\"]\n",
    "    result_frame[\"RUL\"] = remaining_useful_life\n",
    "    \n",
    "    # drop max_cycle as it's no longer needed\n",
    "    result_frame = result_frame.drop(\"max_cycle\", axis=1)\n",
    "    return result_frame"
   ]
  },
  {
   "cell_type": "code",
   "execution_count": 6,
   "id": "1b3a131e",
   "metadata": {},
   "outputs": [],
   "source": [
    "train = add_remaining_useful_life(train)\n"
   ]
  },
  {
   "cell_type": "code",
   "execution_count": 7,
   "id": "1fb0def2",
   "metadata": {},
   "outputs": [
    {
     "data": {
      "text/html": [
       "<div>\n",
       "<style scoped>\n",
       "    .dataframe tbody tr th:only-of-type {\n",
       "        vertical-align: middle;\n",
       "    }\n",
       "\n",
       "    .dataframe tbody tr th {\n",
       "        vertical-align: top;\n",
       "    }\n",
       "\n",
       "    .dataframe thead th {\n",
       "        text-align: right;\n",
       "    }\n",
       "</style>\n",
       "<table border=\"1\" class=\"dataframe\">\n",
       "  <thead>\n",
       "    <tr style=\"text-align: right;\">\n",
       "      <th></th>\n",
       "      <th>unit_nr</th>\n",
       "      <th>time_cycles</th>\n",
       "      <th>setting_1</th>\n",
       "      <th>setting_2</th>\n",
       "      <th>setting_3</th>\n",
       "      <th>s_1</th>\n",
       "      <th>s_2</th>\n",
       "      <th>s_3</th>\n",
       "      <th>s_4</th>\n",
       "      <th>s_5</th>\n",
       "      <th>...</th>\n",
       "      <th>s_13</th>\n",
       "      <th>s_14</th>\n",
       "      <th>s_15</th>\n",
       "      <th>s_16</th>\n",
       "      <th>s_17</th>\n",
       "      <th>s_18</th>\n",
       "      <th>s_19</th>\n",
       "      <th>s_20</th>\n",
       "      <th>s_21</th>\n",
       "      <th>RUL</th>\n",
       "    </tr>\n",
       "  </thead>\n",
       "  <tbody>\n",
       "    <tr>\n",
       "      <th>0</th>\n",
       "      <td>1</td>\n",
       "      <td>1</td>\n",
       "      <td>-0.0007</td>\n",
       "      <td>-0.0004</td>\n",
       "      <td>100.0</td>\n",
       "      <td>518.67</td>\n",
       "      <td>641.82</td>\n",
       "      <td>1589.70</td>\n",
       "      <td>1400.60</td>\n",
       "      <td>14.62</td>\n",
       "      <td>...</td>\n",
       "      <td>2388.02</td>\n",
       "      <td>8138.62</td>\n",
       "      <td>8.4195</td>\n",
       "      <td>0.03</td>\n",
       "      <td>392</td>\n",
       "      <td>2388</td>\n",
       "      <td>100.0</td>\n",
       "      <td>39.06</td>\n",
       "      <td>23.4190</td>\n",
       "      <td>191</td>\n",
       "    </tr>\n",
       "    <tr>\n",
       "      <th>1</th>\n",
       "      <td>1</td>\n",
       "      <td>2</td>\n",
       "      <td>0.0019</td>\n",
       "      <td>-0.0003</td>\n",
       "      <td>100.0</td>\n",
       "      <td>518.67</td>\n",
       "      <td>642.15</td>\n",
       "      <td>1591.82</td>\n",
       "      <td>1403.14</td>\n",
       "      <td>14.62</td>\n",
       "      <td>...</td>\n",
       "      <td>2388.07</td>\n",
       "      <td>8131.49</td>\n",
       "      <td>8.4318</td>\n",
       "      <td>0.03</td>\n",
       "      <td>392</td>\n",
       "      <td>2388</td>\n",
       "      <td>100.0</td>\n",
       "      <td>39.00</td>\n",
       "      <td>23.4236</td>\n",
       "      <td>190</td>\n",
       "    </tr>\n",
       "    <tr>\n",
       "      <th>2</th>\n",
       "      <td>1</td>\n",
       "      <td>3</td>\n",
       "      <td>-0.0043</td>\n",
       "      <td>0.0003</td>\n",
       "      <td>100.0</td>\n",
       "      <td>518.67</td>\n",
       "      <td>642.35</td>\n",
       "      <td>1587.99</td>\n",
       "      <td>1404.20</td>\n",
       "      <td>14.62</td>\n",
       "      <td>...</td>\n",
       "      <td>2388.03</td>\n",
       "      <td>8133.23</td>\n",
       "      <td>8.4178</td>\n",
       "      <td>0.03</td>\n",
       "      <td>390</td>\n",
       "      <td>2388</td>\n",
       "      <td>100.0</td>\n",
       "      <td>38.95</td>\n",
       "      <td>23.3442</td>\n",
       "      <td>189</td>\n",
       "    </tr>\n",
       "    <tr>\n",
       "      <th>3</th>\n",
       "      <td>1</td>\n",
       "      <td>4</td>\n",
       "      <td>0.0007</td>\n",
       "      <td>0.0000</td>\n",
       "      <td>100.0</td>\n",
       "      <td>518.67</td>\n",
       "      <td>642.35</td>\n",
       "      <td>1582.79</td>\n",
       "      <td>1401.87</td>\n",
       "      <td>14.62</td>\n",
       "      <td>...</td>\n",
       "      <td>2388.08</td>\n",
       "      <td>8133.83</td>\n",
       "      <td>8.3682</td>\n",
       "      <td>0.03</td>\n",
       "      <td>392</td>\n",
       "      <td>2388</td>\n",
       "      <td>100.0</td>\n",
       "      <td>38.88</td>\n",
       "      <td>23.3739</td>\n",
       "      <td>188</td>\n",
       "    </tr>\n",
       "    <tr>\n",
       "      <th>4</th>\n",
       "      <td>1</td>\n",
       "      <td>5</td>\n",
       "      <td>-0.0019</td>\n",
       "      <td>-0.0002</td>\n",
       "      <td>100.0</td>\n",
       "      <td>518.67</td>\n",
       "      <td>642.37</td>\n",
       "      <td>1582.85</td>\n",
       "      <td>1406.22</td>\n",
       "      <td>14.62</td>\n",
       "      <td>...</td>\n",
       "      <td>2388.04</td>\n",
       "      <td>8133.80</td>\n",
       "      <td>8.4294</td>\n",
       "      <td>0.03</td>\n",
       "      <td>393</td>\n",
       "      <td>2388</td>\n",
       "      <td>100.0</td>\n",
       "      <td>38.90</td>\n",
       "      <td>23.4044</td>\n",
       "      <td>187</td>\n",
       "    </tr>\n",
       "  </tbody>\n",
       "</table>\n",
       "<p>5 rows × 27 columns</p>\n",
       "</div>"
      ],
      "text/plain": [
       "   unit_nr  time_cycles  setting_1  setting_2  setting_3     s_1     s_2  \\\n",
       "0        1            1    -0.0007    -0.0004      100.0  518.67  641.82   \n",
       "1        1            2     0.0019    -0.0003      100.0  518.67  642.15   \n",
       "2        1            3    -0.0043     0.0003      100.0  518.67  642.35   \n",
       "3        1            4     0.0007     0.0000      100.0  518.67  642.35   \n",
       "4        1            5    -0.0019    -0.0002      100.0  518.67  642.37   \n",
       "\n",
       "       s_3      s_4    s_5  ...     s_13     s_14    s_15  s_16  s_17  s_18  \\\n",
       "0  1589.70  1400.60  14.62  ...  2388.02  8138.62  8.4195  0.03   392  2388   \n",
       "1  1591.82  1403.14  14.62  ...  2388.07  8131.49  8.4318  0.03   392  2388   \n",
       "2  1587.99  1404.20  14.62  ...  2388.03  8133.23  8.4178  0.03   390  2388   \n",
       "3  1582.79  1401.87  14.62  ...  2388.08  8133.83  8.3682  0.03   392  2388   \n",
       "4  1582.85  1406.22  14.62  ...  2388.04  8133.80  8.4294  0.03   393  2388   \n",
       "\n",
       "    s_19   s_20     s_21  RUL  \n",
       "0  100.0  39.06  23.4190  191  \n",
       "1  100.0  39.00  23.4236  190  \n",
       "2  100.0  38.95  23.3442  189  \n",
       "3  100.0  38.88  23.3739  188  \n",
       "4  100.0  38.90  23.4044  187  \n",
       "\n",
       "[5 rows x 27 columns]"
      ]
     },
     "execution_count": 7,
     "metadata": {},
     "output_type": "execute_result"
    }
   ],
   "source": [
    "train.head()"
   ]
  },
  {
   "cell_type": "code",
   "execution_count": 8,
   "id": "911bb580",
   "metadata": {},
   "outputs": [
    {
     "data": {
      "text/html": [
       "<div>\n",
       "<style scoped>\n",
       "    .dataframe tbody tr th:only-of-type {\n",
       "        vertical-align: middle;\n",
       "    }\n",
       "\n",
       "    .dataframe tbody tr th {\n",
       "        vertical-align: top;\n",
       "    }\n",
       "\n",
       "    .dataframe thead th {\n",
       "        text-align: right;\n",
       "    }\n",
       "</style>\n",
       "<table border=\"1\" class=\"dataframe\">\n",
       "  <thead>\n",
       "    <tr style=\"text-align: right;\">\n",
       "      <th></th>\n",
       "      <th>unit_nr</th>\n",
       "      <th>time_cycles</th>\n",
       "      <th>RUL</th>\n",
       "    </tr>\n",
       "  </thead>\n",
       "  <tbody>\n",
       "    <tr>\n",
       "      <th>0</th>\n",
       "      <td>1</td>\n",
       "      <td>1</td>\n",
       "      <td>191</td>\n",
       "    </tr>\n",
       "    <tr>\n",
       "      <th>1</th>\n",
       "      <td>1</td>\n",
       "      <td>2</td>\n",
       "      <td>190</td>\n",
       "    </tr>\n",
       "    <tr>\n",
       "      <th>2</th>\n",
       "      <td>1</td>\n",
       "      <td>3</td>\n",
       "      <td>189</td>\n",
       "    </tr>\n",
       "    <tr>\n",
       "      <th>3</th>\n",
       "      <td>1</td>\n",
       "      <td>4</td>\n",
       "      <td>188</td>\n",
       "    </tr>\n",
       "    <tr>\n",
       "      <th>4</th>\n",
       "      <td>1</td>\n",
       "      <td>5</td>\n",
       "      <td>187</td>\n",
       "    </tr>\n",
       "  </tbody>\n",
       "</table>\n",
       "</div>"
      ],
      "text/plain": [
       "   unit_nr  time_cycles  RUL\n",
       "0        1            1  191\n",
       "1        1            2  190\n",
       "2        1            3  189\n",
       "3        1            4  188\n",
       "4        1            5  187"
      ]
     },
     "execution_count": 8,
     "metadata": {},
     "output_type": "execute_result"
    }
   ],
   "source": [
    "train[index_names+['RUL']].head()"
   ]
  },
  {
   "cell_type": "code",
   "execution_count": 9,
   "id": "8fa5f61a",
   "metadata": {},
   "outputs": [],
   "source": [
    "X_train = train[setting_names + sensor_names].copy()\n",
    "y_train = train['RUL'].copy()\n",
    "y_train_clipped = y_train.clip(upper=120)\n",
    "y_test_clipped = y_test.clip(upper=120)\n",
    "\n",
    "X_test = test.drop('time_cycles', axis=1).groupby('unit_nr').last().copy()"
   ]
  },
  {
   "cell_type": "code",
   "execution_count": 10,
   "id": "57c8f02a",
   "metadata": {},
   "outputs": [
    {
     "data": {
      "text/html": [
       "<div>\n",
       "<style scoped>\n",
       "    .dataframe tbody tr th:only-of-type {\n",
       "        vertical-align: middle;\n",
       "    }\n",
       "\n",
       "    .dataframe tbody tr th {\n",
       "        vertical-align: top;\n",
       "    }\n",
       "\n",
       "    .dataframe thead th {\n",
       "        text-align: right;\n",
       "    }\n",
       "</style>\n",
       "<table border=\"1\" class=\"dataframe\">\n",
       "  <thead>\n",
       "    <tr style=\"text-align: right;\">\n",
       "      <th></th>\n",
       "      <th>setting_1</th>\n",
       "      <th>setting_2</th>\n",
       "      <th>setting_3</th>\n",
       "      <th>s_1</th>\n",
       "      <th>s_2</th>\n",
       "      <th>s_3</th>\n",
       "      <th>s_4</th>\n",
       "      <th>s_5</th>\n",
       "      <th>s_6</th>\n",
       "      <th>s_7</th>\n",
       "      <th>...</th>\n",
       "      <th>s_12</th>\n",
       "      <th>s_13</th>\n",
       "      <th>s_14</th>\n",
       "      <th>s_15</th>\n",
       "      <th>s_16</th>\n",
       "      <th>s_17</th>\n",
       "      <th>s_18</th>\n",
       "      <th>s_19</th>\n",
       "      <th>s_20</th>\n",
       "      <th>s_21</th>\n",
       "    </tr>\n",
       "  </thead>\n",
       "  <tbody>\n",
       "    <tr>\n",
       "      <th>0</th>\n",
       "      <td>-0.0007</td>\n",
       "      <td>-0.0004</td>\n",
       "      <td>100.0</td>\n",
       "      <td>518.67</td>\n",
       "      <td>641.82</td>\n",
       "      <td>1589.70</td>\n",
       "      <td>1400.60</td>\n",
       "      <td>14.62</td>\n",
       "      <td>21.61</td>\n",
       "      <td>554.36</td>\n",
       "      <td>...</td>\n",
       "      <td>521.66</td>\n",
       "      <td>2388.02</td>\n",
       "      <td>8138.62</td>\n",
       "      <td>8.4195</td>\n",
       "      <td>0.03</td>\n",
       "      <td>392</td>\n",
       "      <td>2388</td>\n",
       "      <td>100.0</td>\n",
       "      <td>39.06</td>\n",
       "      <td>23.4190</td>\n",
       "    </tr>\n",
       "    <tr>\n",
       "      <th>1</th>\n",
       "      <td>0.0019</td>\n",
       "      <td>-0.0003</td>\n",
       "      <td>100.0</td>\n",
       "      <td>518.67</td>\n",
       "      <td>642.15</td>\n",
       "      <td>1591.82</td>\n",
       "      <td>1403.14</td>\n",
       "      <td>14.62</td>\n",
       "      <td>21.61</td>\n",
       "      <td>553.75</td>\n",
       "      <td>...</td>\n",
       "      <td>522.28</td>\n",
       "      <td>2388.07</td>\n",
       "      <td>8131.49</td>\n",
       "      <td>8.4318</td>\n",
       "      <td>0.03</td>\n",
       "      <td>392</td>\n",
       "      <td>2388</td>\n",
       "      <td>100.0</td>\n",
       "      <td>39.00</td>\n",
       "      <td>23.4236</td>\n",
       "    </tr>\n",
       "    <tr>\n",
       "      <th>2</th>\n",
       "      <td>-0.0043</td>\n",
       "      <td>0.0003</td>\n",
       "      <td>100.0</td>\n",
       "      <td>518.67</td>\n",
       "      <td>642.35</td>\n",
       "      <td>1587.99</td>\n",
       "      <td>1404.20</td>\n",
       "      <td>14.62</td>\n",
       "      <td>21.61</td>\n",
       "      <td>554.26</td>\n",
       "      <td>...</td>\n",
       "      <td>522.42</td>\n",
       "      <td>2388.03</td>\n",
       "      <td>8133.23</td>\n",
       "      <td>8.4178</td>\n",
       "      <td>0.03</td>\n",
       "      <td>390</td>\n",
       "      <td>2388</td>\n",
       "      <td>100.0</td>\n",
       "      <td>38.95</td>\n",
       "      <td>23.3442</td>\n",
       "    </tr>\n",
       "    <tr>\n",
       "      <th>3</th>\n",
       "      <td>0.0007</td>\n",
       "      <td>0.0000</td>\n",
       "      <td>100.0</td>\n",
       "      <td>518.67</td>\n",
       "      <td>642.35</td>\n",
       "      <td>1582.79</td>\n",
       "      <td>1401.87</td>\n",
       "      <td>14.62</td>\n",
       "      <td>21.61</td>\n",
       "      <td>554.45</td>\n",
       "      <td>...</td>\n",
       "      <td>522.86</td>\n",
       "      <td>2388.08</td>\n",
       "      <td>8133.83</td>\n",
       "      <td>8.3682</td>\n",
       "      <td>0.03</td>\n",
       "      <td>392</td>\n",
       "      <td>2388</td>\n",
       "      <td>100.0</td>\n",
       "      <td>38.88</td>\n",
       "      <td>23.3739</td>\n",
       "    </tr>\n",
       "    <tr>\n",
       "      <th>4</th>\n",
       "      <td>-0.0019</td>\n",
       "      <td>-0.0002</td>\n",
       "      <td>100.0</td>\n",
       "      <td>518.67</td>\n",
       "      <td>642.37</td>\n",
       "      <td>1582.85</td>\n",
       "      <td>1406.22</td>\n",
       "      <td>14.62</td>\n",
       "      <td>21.61</td>\n",
       "      <td>554.00</td>\n",
       "      <td>...</td>\n",
       "      <td>522.19</td>\n",
       "      <td>2388.04</td>\n",
       "      <td>8133.80</td>\n",
       "      <td>8.4294</td>\n",
       "      <td>0.03</td>\n",
       "      <td>393</td>\n",
       "      <td>2388</td>\n",
       "      <td>100.0</td>\n",
       "      <td>38.90</td>\n",
       "      <td>23.4044</td>\n",
       "    </tr>\n",
       "    <tr>\n",
       "      <th>...</th>\n",
       "      <td>...</td>\n",
       "      <td>...</td>\n",
       "      <td>...</td>\n",
       "      <td>...</td>\n",
       "      <td>...</td>\n",
       "      <td>...</td>\n",
       "      <td>...</td>\n",
       "      <td>...</td>\n",
       "      <td>...</td>\n",
       "      <td>...</td>\n",
       "      <td>...</td>\n",
       "      <td>...</td>\n",
       "      <td>...</td>\n",
       "      <td>...</td>\n",
       "      <td>...</td>\n",
       "      <td>...</td>\n",
       "      <td>...</td>\n",
       "      <td>...</td>\n",
       "      <td>...</td>\n",
       "      <td>...</td>\n",
       "      <td>...</td>\n",
       "    </tr>\n",
       "    <tr>\n",
       "      <th>20626</th>\n",
       "      <td>-0.0004</td>\n",
       "      <td>-0.0003</td>\n",
       "      <td>100.0</td>\n",
       "      <td>518.67</td>\n",
       "      <td>643.49</td>\n",
       "      <td>1597.98</td>\n",
       "      <td>1428.63</td>\n",
       "      <td>14.62</td>\n",
       "      <td>21.61</td>\n",
       "      <td>551.43</td>\n",
       "      <td>...</td>\n",
       "      <td>519.49</td>\n",
       "      <td>2388.26</td>\n",
       "      <td>8137.60</td>\n",
       "      <td>8.4956</td>\n",
       "      <td>0.03</td>\n",
       "      <td>397</td>\n",
       "      <td>2388</td>\n",
       "      <td>100.0</td>\n",
       "      <td>38.49</td>\n",
       "      <td>22.9735</td>\n",
       "    </tr>\n",
       "    <tr>\n",
       "      <th>20627</th>\n",
       "      <td>-0.0016</td>\n",
       "      <td>-0.0005</td>\n",
       "      <td>100.0</td>\n",
       "      <td>518.67</td>\n",
       "      <td>643.54</td>\n",
       "      <td>1604.50</td>\n",
       "      <td>1433.58</td>\n",
       "      <td>14.62</td>\n",
       "      <td>21.61</td>\n",
       "      <td>550.86</td>\n",
       "      <td>...</td>\n",
       "      <td>519.68</td>\n",
       "      <td>2388.22</td>\n",
       "      <td>8136.50</td>\n",
       "      <td>8.5139</td>\n",
       "      <td>0.03</td>\n",
       "      <td>395</td>\n",
       "      <td>2388</td>\n",
       "      <td>100.0</td>\n",
       "      <td>38.30</td>\n",
       "      <td>23.1594</td>\n",
       "    </tr>\n",
       "    <tr>\n",
       "      <th>20628</th>\n",
       "      <td>0.0004</td>\n",
       "      <td>0.0000</td>\n",
       "      <td>100.0</td>\n",
       "      <td>518.67</td>\n",
       "      <td>643.42</td>\n",
       "      <td>1602.46</td>\n",
       "      <td>1428.18</td>\n",
       "      <td>14.62</td>\n",
       "      <td>21.61</td>\n",
       "      <td>550.94</td>\n",
       "      <td>...</td>\n",
       "      <td>520.01</td>\n",
       "      <td>2388.24</td>\n",
       "      <td>8141.05</td>\n",
       "      <td>8.5646</td>\n",
       "      <td>0.03</td>\n",
       "      <td>398</td>\n",
       "      <td>2388</td>\n",
       "      <td>100.0</td>\n",
       "      <td>38.44</td>\n",
       "      <td>22.9333</td>\n",
       "    </tr>\n",
       "    <tr>\n",
       "      <th>20629</th>\n",
       "      <td>-0.0011</td>\n",
       "      <td>0.0003</td>\n",
       "      <td>100.0</td>\n",
       "      <td>518.67</td>\n",
       "      <td>643.23</td>\n",
       "      <td>1605.26</td>\n",
       "      <td>1426.53</td>\n",
       "      <td>14.62</td>\n",
       "      <td>21.61</td>\n",
       "      <td>550.68</td>\n",
       "      <td>...</td>\n",
       "      <td>519.67</td>\n",
       "      <td>2388.23</td>\n",
       "      <td>8139.29</td>\n",
       "      <td>8.5389</td>\n",
       "      <td>0.03</td>\n",
       "      <td>395</td>\n",
       "      <td>2388</td>\n",
       "      <td>100.0</td>\n",
       "      <td>38.29</td>\n",
       "      <td>23.0640</td>\n",
       "    </tr>\n",
       "    <tr>\n",
       "      <th>20630</th>\n",
       "      <td>-0.0032</td>\n",
       "      <td>-0.0005</td>\n",
       "      <td>100.0</td>\n",
       "      <td>518.67</td>\n",
       "      <td>643.85</td>\n",
       "      <td>1600.38</td>\n",
       "      <td>1432.14</td>\n",
       "      <td>14.62</td>\n",
       "      <td>21.61</td>\n",
       "      <td>550.79</td>\n",
       "      <td>...</td>\n",
       "      <td>519.30</td>\n",
       "      <td>2388.26</td>\n",
       "      <td>8137.33</td>\n",
       "      <td>8.5036</td>\n",
       "      <td>0.03</td>\n",
       "      <td>396</td>\n",
       "      <td>2388</td>\n",
       "      <td>100.0</td>\n",
       "      <td>38.37</td>\n",
       "      <td>23.0522</td>\n",
       "    </tr>\n",
       "  </tbody>\n",
       "</table>\n",
       "<p>20631 rows × 24 columns</p>\n",
       "</div>"
      ],
      "text/plain": [
       "       setting_1  setting_2  setting_3     s_1     s_2      s_3      s_4  \\\n",
       "0        -0.0007    -0.0004      100.0  518.67  641.82  1589.70  1400.60   \n",
       "1         0.0019    -0.0003      100.0  518.67  642.15  1591.82  1403.14   \n",
       "2        -0.0043     0.0003      100.0  518.67  642.35  1587.99  1404.20   \n",
       "3         0.0007     0.0000      100.0  518.67  642.35  1582.79  1401.87   \n",
       "4        -0.0019    -0.0002      100.0  518.67  642.37  1582.85  1406.22   \n",
       "...          ...        ...        ...     ...     ...      ...      ...   \n",
       "20626    -0.0004    -0.0003      100.0  518.67  643.49  1597.98  1428.63   \n",
       "20627    -0.0016    -0.0005      100.0  518.67  643.54  1604.50  1433.58   \n",
       "20628     0.0004     0.0000      100.0  518.67  643.42  1602.46  1428.18   \n",
       "20629    -0.0011     0.0003      100.0  518.67  643.23  1605.26  1426.53   \n",
       "20630    -0.0032    -0.0005      100.0  518.67  643.85  1600.38  1432.14   \n",
       "\n",
       "         s_5    s_6     s_7  ...    s_12     s_13     s_14    s_15  s_16  \\\n",
       "0      14.62  21.61  554.36  ...  521.66  2388.02  8138.62  8.4195  0.03   \n",
       "1      14.62  21.61  553.75  ...  522.28  2388.07  8131.49  8.4318  0.03   \n",
       "2      14.62  21.61  554.26  ...  522.42  2388.03  8133.23  8.4178  0.03   \n",
       "3      14.62  21.61  554.45  ...  522.86  2388.08  8133.83  8.3682  0.03   \n",
       "4      14.62  21.61  554.00  ...  522.19  2388.04  8133.80  8.4294  0.03   \n",
       "...      ...    ...     ...  ...     ...      ...      ...     ...   ...   \n",
       "20626  14.62  21.61  551.43  ...  519.49  2388.26  8137.60  8.4956  0.03   \n",
       "20627  14.62  21.61  550.86  ...  519.68  2388.22  8136.50  8.5139  0.03   \n",
       "20628  14.62  21.61  550.94  ...  520.01  2388.24  8141.05  8.5646  0.03   \n",
       "20629  14.62  21.61  550.68  ...  519.67  2388.23  8139.29  8.5389  0.03   \n",
       "20630  14.62  21.61  550.79  ...  519.30  2388.26  8137.33  8.5036  0.03   \n",
       "\n",
       "       s_17  s_18   s_19   s_20     s_21  \n",
       "0       392  2388  100.0  39.06  23.4190  \n",
       "1       392  2388  100.0  39.00  23.4236  \n",
       "2       390  2388  100.0  38.95  23.3442  \n",
       "3       392  2388  100.0  38.88  23.3739  \n",
       "4       393  2388  100.0  38.90  23.4044  \n",
       "...     ...   ...    ...    ...      ...  \n",
       "20626   397  2388  100.0  38.49  22.9735  \n",
       "20627   395  2388  100.0  38.30  23.1594  \n",
       "20628   398  2388  100.0  38.44  22.9333  \n",
       "20629   395  2388  100.0  38.29  23.0640  \n",
       "20630   396  2388  100.0  38.37  23.0522  \n",
       "\n",
       "[20631 rows x 24 columns]"
      ]
     },
     "execution_count": 10,
     "metadata": {},
     "output_type": "execute_result"
    }
   ],
   "source": [
    "X_train"
   ]
  },
  {
   "cell_type": "code",
   "execution_count": 11,
   "id": "4bdbd362",
   "metadata": {},
   "outputs": [
    {
     "data": {
      "text/plain": [
       "0        191\n",
       "1        190\n",
       "2        189\n",
       "3        188\n",
       "4        187\n",
       "        ... \n",
       "20626      4\n",
       "20627      3\n",
       "20628      2\n",
       "20629      1\n",
       "20630      0\n",
       "Name: RUL, Length: 20631, dtype: int64"
      ]
     },
     "execution_count": 11,
     "metadata": {},
     "output_type": "execute_result"
    }
   ],
   "source": [
    "y_train"
   ]
  },
  {
   "cell_type": "code",
   "execution_count": 12,
   "id": "c8f5008e",
   "metadata": {},
   "outputs": [
    {
     "data": {
      "text/plain": [
       "0        120\n",
       "1        120\n",
       "2        120\n",
       "3        120\n",
       "4        120\n",
       "        ... \n",
       "20626      4\n",
       "20627      3\n",
       "20628      2\n",
       "20629      1\n",
       "20630      0\n",
       "Name: RUL, Length: 20631, dtype: int64"
      ]
     },
     "execution_count": 12,
     "metadata": {},
     "output_type": "execute_result"
    }
   ],
   "source": [
    "y_train_clipped"
   ]
  },
  {
   "cell_type": "code",
   "execution_count": 13,
   "id": "d7c30c5d",
   "metadata": {},
   "outputs": [
    {
     "data": {
      "text/html": [
       "<div>\n",
       "<style scoped>\n",
       "    .dataframe tbody tr th:only-of-type {\n",
       "        vertical-align: middle;\n",
       "    }\n",
       "\n",
       "    .dataframe tbody tr th {\n",
       "        vertical-align: top;\n",
       "    }\n",
       "\n",
       "    .dataframe thead th {\n",
       "        text-align: right;\n",
       "    }\n",
       "</style>\n",
       "<table border=\"1\" class=\"dataframe\">\n",
       "  <thead>\n",
       "    <tr style=\"text-align: right;\">\n",
       "      <th></th>\n",
       "      <th>RUL</th>\n",
       "    </tr>\n",
       "  </thead>\n",
       "  <tbody>\n",
       "    <tr>\n",
       "      <th>0</th>\n",
       "      <td>112</td>\n",
       "    </tr>\n",
       "    <tr>\n",
       "      <th>1</th>\n",
       "      <td>98</td>\n",
       "    </tr>\n",
       "    <tr>\n",
       "      <th>2</th>\n",
       "      <td>69</td>\n",
       "    </tr>\n",
       "    <tr>\n",
       "      <th>3</th>\n",
       "      <td>82</td>\n",
       "    </tr>\n",
       "    <tr>\n",
       "      <th>4</th>\n",
       "      <td>91</td>\n",
       "    </tr>\n",
       "    <tr>\n",
       "      <th>...</th>\n",
       "      <td>...</td>\n",
       "    </tr>\n",
       "    <tr>\n",
       "      <th>95</th>\n",
       "      <td>120</td>\n",
       "    </tr>\n",
       "    <tr>\n",
       "      <th>96</th>\n",
       "      <td>82</td>\n",
       "    </tr>\n",
       "    <tr>\n",
       "      <th>97</th>\n",
       "      <td>59</td>\n",
       "    </tr>\n",
       "    <tr>\n",
       "      <th>98</th>\n",
       "      <td>117</td>\n",
       "    </tr>\n",
       "    <tr>\n",
       "      <th>99</th>\n",
       "      <td>20</td>\n",
       "    </tr>\n",
       "  </tbody>\n",
       "</table>\n",
       "<p>100 rows × 1 columns</p>\n",
       "</div>"
      ],
      "text/plain": [
       "    RUL\n",
       "0   112\n",
       "1    98\n",
       "2    69\n",
       "3    82\n",
       "4    91\n",
       "..  ...\n",
       "95  120\n",
       "96   82\n",
       "97   59\n",
       "98  117\n",
       "99   20\n",
       "\n",
       "[100 rows x 1 columns]"
      ]
     },
     "execution_count": 13,
     "metadata": {},
     "output_type": "execute_result"
    }
   ],
   "source": [
    "y_test_clipped"
   ]
  },
  {
   "cell_type": "code",
   "execution_count": 14,
   "id": "90d94d0d",
   "metadata": {},
   "outputs": [
    {
     "data": {
      "text/html": [
       "<div>\n",
       "<style scoped>\n",
       "    .dataframe tbody tr th:only-of-type {\n",
       "        vertical-align: middle;\n",
       "    }\n",
       "\n",
       "    .dataframe tbody tr th {\n",
       "        vertical-align: top;\n",
       "    }\n",
       "\n",
       "    .dataframe thead th {\n",
       "        text-align: right;\n",
       "    }\n",
       "</style>\n",
       "<table border=\"1\" class=\"dataframe\">\n",
       "  <thead>\n",
       "    <tr style=\"text-align: right;\">\n",
       "      <th></th>\n",
       "      <th>setting_1</th>\n",
       "      <th>setting_2</th>\n",
       "      <th>setting_3</th>\n",
       "      <th>s_1</th>\n",
       "      <th>s_2</th>\n",
       "      <th>s_3</th>\n",
       "      <th>s_4</th>\n",
       "      <th>s_5</th>\n",
       "      <th>s_6</th>\n",
       "      <th>s_7</th>\n",
       "      <th>...</th>\n",
       "      <th>s_12</th>\n",
       "      <th>s_13</th>\n",
       "      <th>s_14</th>\n",
       "      <th>s_15</th>\n",
       "      <th>s_16</th>\n",
       "      <th>s_17</th>\n",
       "      <th>s_18</th>\n",
       "      <th>s_19</th>\n",
       "      <th>s_20</th>\n",
       "      <th>s_21</th>\n",
       "    </tr>\n",
       "    <tr>\n",
       "      <th>unit_nr</th>\n",
       "      <th></th>\n",
       "      <th></th>\n",
       "      <th></th>\n",
       "      <th></th>\n",
       "      <th></th>\n",
       "      <th></th>\n",
       "      <th></th>\n",
       "      <th></th>\n",
       "      <th></th>\n",
       "      <th></th>\n",
       "      <th></th>\n",
       "      <th></th>\n",
       "      <th></th>\n",
       "      <th></th>\n",
       "      <th></th>\n",
       "      <th></th>\n",
       "      <th></th>\n",
       "      <th></th>\n",
       "      <th></th>\n",
       "      <th></th>\n",
       "      <th></th>\n",
       "    </tr>\n",
       "  </thead>\n",
       "  <tbody>\n",
       "    <tr>\n",
       "      <th>1</th>\n",
       "      <td>-0.0006</td>\n",
       "      <td>0.0004</td>\n",
       "      <td>100.0</td>\n",
       "      <td>518.67</td>\n",
       "      <td>642.58</td>\n",
       "      <td>1581.22</td>\n",
       "      <td>1398.91</td>\n",
       "      <td>14.62</td>\n",
       "      <td>21.61</td>\n",
       "      <td>554.42</td>\n",
       "      <td>...</td>\n",
       "      <td>521.79</td>\n",
       "      <td>2388.06</td>\n",
       "      <td>8130.11</td>\n",
       "      <td>8.4024</td>\n",
       "      <td>0.03</td>\n",
       "      <td>393</td>\n",
       "      <td>2388</td>\n",
       "      <td>100.0</td>\n",
       "      <td>38.81</td>\n",
       "      <td>23.3552</td>\n",
       "    </tr>\n",
       "    <tr>\n",
       "      <th>2</th>\n",
       "      <td>0.0018</td>\n",
       "      <td>-0.0001</td>\n",
       "      <td>100.0</td>\n",
       "      <td>518.67</td>\n",
       "      <td>642.55</td>\n",
       "      <td>1586.59</td>\n",
       "      <td>1410.83</td>\n",
       "      <td>14.62</td>\n",
       "      <td>21.61</td>\n",
       "      <td>553.52</td>\n",
       "      <td>...</td>\n",
       "      <td>521.74</td>\n",
       "      <td>2388.09</td>\n",
       "      <td>8126.90</td>\n",
       "      <td>8.4505</td>\n",
       "      <td>0.03</td>\n",
       "      <td>391</td>\n",
       "      <td>2388</td>\n",
       "      <td>100.0</td>\n",
       "      <td>38.81</td>\n",
       "      <td>23.2618</td>\n",
       "    </tr>\n",
       "    <tr>\n",
       "      <th>3</th>\n",
       "      <td>-0.0016</td>\n",
       "      <td>0.0004</td>\n",
       "      <td>100.0</td>\n",
       "      <td>518.67</td>\n",
       "      <td>642.88</td>\n",
       "      <td>1589.75</td>\n",
       "      <td>1418.89</td>\n",
       "      <td>14.62</td>\n",
       "      <td>21.61</td>\n",
       "      <td>552.59</td>\n",
       "      <td>...</td>\n",
       "      <td>520.83</td>\n",
       "      <td>2388.14</td>\n",
       "      <td>8131.46</td>\n",
       "      <td>8.4119</td>\n",
       "      <td>0.03</td>\n",
       "      <td>395</td>\n",
       "      <td>2388</td>\n",
       "      <td>100.0</td>\n",
       "      <td>38.93</td>\n",
       "      <td>23.2740</td>\n",
       "    </tr>\n",
       "    <tr>\n",
       "      <th>4</th>\n",
       "      <td>0.0012</td>\n",
       "      <td>0.0004</td>\n",
       "      <td>100.0</td>\n",
       "      <td>518.67</td>\n",
       "      <td>642.78</td>\n",
       "      <td>1594.53</td>\n",
       "      <td>1406.88</td>\n",
       "      <td>14.62</td>\n",
       "      <td>21.61</td>\n",
       "      <td>552.64</td>\n",
       "      <td>...</td>\n",
       "      <td>521.88</td>\n",
       "      <td>2388.11</td>\n",
       "      <td>8133.64</td>\n",
       "      <td>8.4634</td>\n",
       "      <td>0.03</td>\n",
       "      <td>395</td>\n",
       "      <td>2388</td>\n",
       "      <td>100.0</td>\n",
       "      <td>38.58</td>\n",
       "      <td>23.2581</td>\n",
       "    </tr>\n",
       "    <tr>\n",
       "      <th>5</th>\n",
       "      <td>-0.0013</td>\n",
       "      <td>-0.0004</td>\n",
       "      <td>100.0</td>\n",
       "      <td>518.67</td>\n",
       "      <td>642.27</td>\n",
       "      <td>1589.94</td>\n",
       "      <td>1419.36</td>\n",
       "      <td>14.62</td>\n",
       "      <td>21.61</td>\n",
       "      <td>553.29</td>\n",
       "      <td>...</td>\n",
       "      <td>521.00</td>\n",
       "      <td>2388.15</td>\n",
       "      <td>8125.74</td>\n",
       "      <td>8.4362</td>\n",
       "      <td>0.03</td>\n",
       "      <td>394</td>\n",
       "      <td>2388</td>\n",
       "      <td>100.0</td>\n",
       "      <td>38.75</td>\n",
       "      <td>23.4117</td>\n",
       "    </tr>\n",
       "    <tr>\n",
       "      <th>...</th>\n",
       "      <td>...</td>\n",
       "      <td>...</td>\n",
       "      <td>...</td>\n",
       "      <td>...</td>\n",
       "      <td>...</td>\n",
       "      <td>...</td>\n",
       "      <td>...</td>\n",
       "      <td>...</td>\n",
       "      <td>...</td>\n",
       "      <td>...</td>\n",
       "      <td>...</td>\n",
       "      <td>...</td>\n",
       "      <td>...</td>\n",
       "      <td>...</td>\n",
       "      <td>...</td>\n",
       "      <td>...</td>\n",
       "      <td>...</td>\n",
       "      <td>...</td>\n",
       "      <td>...</td>\n",
       "      <td>...</td>\n",
       "      <td>...</td>\n",
       "    </tr>\n",
       "    <tr>\n",
       "      <th>96</th>\n",
       "      <td>-0.0006</td>\n",
       "      <td>0.0003</td>\n",
       "      <td>100.0</td>\n",
       "      <td>518.67</td>\n",
       "      <td>642.30</td>\n",
       "      <td>1590.88</td>\n",
       "      <td>1397.94</td>\n",
       "      <td>14.62</td>\n",
       "      <td>21.61</td>\n",
       "      <td>553.99</td>\n",
       "      <td>...</td>\n",
       "      <td>522.30</td>\n",
       "      <td>2388.01</td>\n",
       "      <td>8148.24</td>\n",
       "      <td>8.4110</td>\n",
       "      <td>0.03</td>\n",
       "      <td>391</td>\n",
       "      <td>2388</td>\n",
       "      <td>100.0</td>\n",
       "      <td>38.96</td>\n",
       "      <td>23.4606</td>\n",
       "    </tr>\n",
       "    <tr>\n",
       "      <th>97</th>\n",
       "      <td>0.0013</td>\n",
       "      <td>-0.0001</td>\n",
       "      <td>100.0</td>\n",
       "      <td>518.67</td>\n",
       "      <td>642.59</td>\n",
       "      <td>1582.96</td>\n",
       "      <td>1410.92</td>\n",
       "      <td>14.62</td>\n",
       "      <td>21.61</td>\n",
       "      <td>554.05</td>\n",
       "      <td>...</td>\n",
       "      <td>521.58</td>\n",
       "      <td>2388.06</td>\n",
       "      <td>8155.48</td>\n",
       "      <td>8.4500</td>\n",
       "      <td>0.03</td>\n",
       "      <td>395</td>\n",
       "      <td>2388</td>\n",
       "      <td>100.0</td>\n",
       "      <td>38.61</td>\n",
       "      <td>23.2953</td>\n",
       "    </tr>\n",
       "    <tr>\n",
       "      <th>98</th>\n",
       "      <td>0.0017</td>\n",
       "      <td>0.0001</td>\n",
       "      <td>100.0</td>\n",
       "      <td>518.67</td>\n",
       "      <td>642.68</td>\n",
       "      <td>1599.51</td>\n",
       "      <td>1415.47</td>\n",
       "      <td>14.62</td>\n",
       "      <td>21.61</td>\n",
       "      <td>553.44</td>\n",
       "      <td>...</td>\n",
       "      <td>521.53</td>\n",
       "      <td>2388.09</td>\n",
       "      <td>8146.39</td>\n",
       "      <td>8.4235</td>\n",
       "      <td>0.03</td>\n",
       "      <td>394</td>\n",
       "      <td>2388</td>\n",
       "      <td>100.0</td>\n",
       "      <td>38.76</td>\n",
       "      <td>23.3608</td>\n",
       "    </tr>\n",
       "    <tr>\n",
       "      <th>99</th>\n",
       "      <td>0.0047</td>\n",
       "      <td>-0.0000</td>\n",
       "      <td>100.0</td>\n",
       "      <td>518.67</td>\n",
       "      <td>642.00</td>\n",
       "      <td>1585.03</td>\n",
       "      <td>1397.98</td>\n",
       "      <td>14.62</td>\n",
       "      <td>21.61</td>\n",
       "      <td>554.75</td>\n",
       "      <td>...</td>\n",
       "      <td>521.82</td>\n",
       "      <td>2388.02</td>\n",
       "      <td>8150.38</td>\n",
       "      <td>8.4003</td>\n",
       "      <td>0.03</td>\n",
       "      <td>391</td>\n",
       "      <td>2388</td>\n",
       "      <td>100.0</td>\n",
       "      <td>38.95</td>\n",
       "      <td>23.3595</td>\n",
       "    </tr>\n",
       "    <tr>\n",
       "      <th>100</th>\n",
       "      <td>0.0013</td>\n",
       "      <td>0.0003</td>\n",
       "      <td>100.0</td>\n",
       "      <td>518.67</td>\n",
       "      <td>642.95</td>\n",
       "      <td>1601.62</td>\n",
       "      <td>1424.99</td>\n",
       "      <td>14.62</td>\n",
       "      <td>21.61</td>\n",
       "      <td>552.48</td>\n",
       "      <td>...</td>\n",
       "      <td>521.07</td>\n",
       "      <td>2388.05</td>\n",
       "      <td>8214.64</td>\n",
       "      <td>8.4903</td>\n",
       "      <td>0.03</td>\n",
       "      <td>396</td>\n",
       "      <td>2388</td>\n",
       "      <td>100.0</td>\n",
       "      <td>38.70</td>\n",
       "      <td>23.1855</td>\n",
       "    </tr>\n",
       "  </tbody>\n",
       "</table>\n",
       "<p>100 rows × 24 columns</p>\n",
       "</div>"
      ],
      "text/plain": [
       "         setting_1  setting_2  setting_3     s_1     s_2      s_3      s_4  \\\n",
       "unit_nr                                                                      \n",
       "1          -0.0006     0.0004      100.0  518.67  642.58  1581.22  1398.91   \n",
       "2           0.0018    -0.0001      100.0  518.67  642.55  1586.59  1410.83   \n",
       "3          -0.0016     0.0004      100.0  518.67  642.88  1589.75  1418.89   \n",
       "4           0.0012     0.0004      100.0  518.67  642.78  1594.53  1406.88   \n",
       "5          -0.0013    -0.0004      100.0  518.67  642.27  1589.94  1419.36   \n",
       "...            ...        ...        ...     ...     ...      ...      ...   \n",
       "96         -0.0006     0.0003      100.0  518.67  642.30  1590.88  1397.94   \n",
       "97          0.0013    -0.0001      100.0  518.67  642.59  1582.96  1410.92   \n",
       "98          0.0017     0.0001      100.0  518.67  642.68  1599.51  1415.47   \n",
       "99          0.0047    -0.0000      100.0  518.67  642.00  1585.03  1397.98   \n",
       "100         0.0013     0.0003      100.0  518.67  642.95  1601.62  1424.99   \n",
       "\n",
       "           s_5    s_6     s_7  ...    s_12     s_13     s_14    s_15  s_16  \\\n",
       "unit_nr                        ...                                           \n",
       "1        14.62  21.61  554.42  ...  521.79  2388.06  8130.11  8.4024  0.03   \n",
       "2        14.62  21.61  553.52  ...  521.74  2388.09  8126.90  8.4505  0.03   \n",
       "3        14.62  21.61  552.59  ...  520.83  2388.14  8131.46  8.4119  0.03   \n",
       "4        14.62  21.61  552.64  ...  521.88  2388.11  8133.64  8.4634  0.03   \n",
       "5        14.62  21.61  553.29  ...  521.00  2388.15  8125.74  8.4362  0.03   \n",
       "...        ...    ...     ...  ...     ...      ...      ...     ...   ...   \n",
       "96       14.62  21.61  553.99  ...  522.30  2388.01  8148.24  8.4110  0.03   \n",
       "97       14.62  21.61  554.05  ...  521.58  2388.06  8155.48  8.4500  0.03   \n",
       "98       14.62  21.61  553.44  ...  521.53  2388.09  8146.39  8.4235  0.03   \n",
       "99       14.62  21.61  554.75  ...  521.82  2388.02  8150.38  8.4003  0.03   \n",
       "100      14.62  21.61  552.48  ...  521.07  2388.05  8214.64  8.4903  0.03   \n",
       "\n",
       "         s_17  s_18   s_19   s_20     s_21  \n",
       "unit_nr                                     \n",
       "1         393  2388  100.0  38.81  23.3552  \n",
       "2         391  2388  100.0  38.81  23.2618  \n",
       "3         395  2388  100.0  38.93  23.2740  \n",
       "4         395  2388  100.0  38.58  23.2581  \n",
       "5         394  2388  100.0  38.75  23.4117  \n",
       "...       ...   ...    ...    ...      ...  \n",
       "96        391  2388  100.0  38.96  23.4606  \n",
       "97        395  2388  100.0  38.61  23.2953  \n",
       "98        394  2388  100.0  38.76  23.3608  \n",
       "99        391  2388  100.0  38.95  23.3595  \n",
       "100       396  2388  100.0  38.70  23.1855  \n",
       "\n",
       "[100 rows x 24 columns]"
      ]
     },
     "execution_count": 14,
     "metadata": {},
     "output_type": "execute_result"
    }
   ],
   "source": [
    "X_test"
   ]
  },
  {
   "cell_type": "code",
   "execution_count": 15,
   "id": "6f15859e",
   "metadata": {},
   "outputs": [],
   "source": [
    "def evaluate(y_true, y_hat, label='test'):\n",
    "    mse = mean_squared_error(y_true, y_hat)\n",
    "    rmse = np.sqrt(mse)\n",
    "    variance = r2_score(y_true, y_hat)\n",
    "    print('{} set RMSE: {}, R2: {}'.format(label, rmse, variance))"
   ]
  },
  {
   "cell_type": "code",
   "execution_count": 16,
   "id": "51e926d8",
   "metadata": {},
   "outputs": [],
   "source": [
    "# before we start plotting, lets implement the condition specific scaling\n",
    "def add_operating_condition(df):\n",
    "    df_op_cond = df.copy()\n",
    "    \n",
    "    df_op_cond['setting_1'] = df_op_cond['setting_1'].round()\n",
    "    df_op_cond['setting_2'] = df_op_cond['setting_2'].round(decimals=2)\n",
    "    \n",
    "    # converting settings to string and concatanating makes the operating condition into a categorical variable\n",
    "    \n",
    "    df_op_cond['op_cond'] = df_op_cond['setting_1'].astype(str) + '_' + \\\n",
    "                        df_op_cond['setting_2'].astype(str) + '_' + \\\n",
    "                        df_op_cond['setting_3'].astype(str)\n",
    "    return df_op_cond\n",
    "    "
   ]
  },
  {
   "cell_type": "code",
   "execution_count": 17,
   "id": "2db6fcd4",
   "metadata": {},
   "outputs": [],
   "source": [
    "def condition_scaler(df_train, df_test, sensor_names):\n",
    "    scaler = StandardScaler()\n",
    "    for condition in df_train['op_cond'].unique():\n",
    "        scaler.fit(df_train.loc[df_train['op_cond']==condition, sensor_names])\n",
    "        df_train.loc[df_train['op_cond'] == condition, sensor_names] =  scaler.transform(df_train.loc[df_train['op_cond'] == condition, sensor_names])\n",
    "        df_test.loc[df_test['op_cond'] == condition, sensor_names] =  scaler.transform(df_test.loc[df_test['op_cond'] == condition, sensor_names])\n",
    "        \n",
    "    return df_train, df_test"
   ]
  },
  {
   "cell_type": "code",
   "execution_count": 18,
   "id": "36f9cd70",
   "metadata": {},
   "outputs": [],
   "source": [
    "X_train_condition = add_operating_condition(train)\n",
    "X_test_condition = add_operating_condition(X_test)\n",
    "\n",
    "X_train_condition_scaled, X_test_condition_scaled = condition_scaler(X_train_condition, X_test_condition, sensor_names)"
   ]
  },
  {
   "cell_type": "code",
   "execution_count": 19,
   "id": "8354cfa8",
   "metadata": {},
   "outputs": [],
   "source": [
    "remaining_sensors = ['s_2', 's_3', 's_4', 's_7', 's_8', 's_9',\n",
    "       's_11', 's_12', 's_13', 's_14', 's_15', 's_17', 's_20', 's_21']\n",
    "drop_sensors = [element for element in sensor_names if element not in remaining_sensors]"
   ]
  },
  {
   "cell_type": "code",
   "execution_count": 20,
   "id": "d1f0ed28",
   "metadata": {},
   "outputs": [],
   "source": [
    "def exponential_smoothing(df, sensors, n_samples, alpha=0.4):\n",
    "    df = df.copy()\n",
    "    # first, take the exponential weighted mean\n",
    "    df[sensors] = df.groupby('unit_nr')[sensors].apply(lambda x: x.ewm(alpha=alpha).mean())\n",
    "    \n",
    "    # second, drop first n_samples of each unit_nr to reduce filter delay\n",
    "    def create_mask(data, samples):\n",
    "        result = np.ones_like(data)\n",
    "        result[0:samples] = 0\n",
    "        return result\n",
    "    \n",
    "    mask = df.groupby('unit_nr')['unit_nr'].transform(create_mask, samples= n_samples).astype(bool)\n",
    "    df = df[mask]\n",
    "    \n",
    "    return df"
   ]
  },
  {
   "cell_type": "code",
   "execution_count": 21,
   "id": "1c0249f1",
   "metadata": {},
   "outputs": [],
   "source": [
    "gss = GroupShuffleSplit(n_splits=1, train_size=0.80, random_state=42)\n",
    "\n",
    "def train_val_group_split(X, y, gss, groups, print_groups=True):\n",
    "    for idx_train, idx_val in gss.split(X, y, groups=groups):\n",
    "        if print_groups:\n",
    "            print('train_split_engines', train.iloc[idx_train]['unit_nr'].unique())\n",
    "            print('validate_split_engines', train.iloc[idx_val]['unit_nr'].unique(),'\\n')\n",
    "            \n",
    "        X_train_split = X.iloc[idx_train].copy()\n",
    "        y_train_split = y.iloc[idx_train].copy()\n",
    "        X_val_split = X.iloc[idx_val].copy()\n",
    "        y_val_split = y.iloc[idx_val].copy()\n",
    "    return X_train_split, y_train_split, X_val_split, y_val_split"
   ]
  },
  {
   "cell_type": "code",
   "execution_count": 22,
   "id": "cfd7d611",
   "metadata": {},
   "outputs": [],
   "source": [
    "def gen_train_data(df, sequence_length, columns):\n",
    "    data = df[columns].values\n",
    "    num_elements = data.shape[0]\n",
    "    \n",
    "    for start, stop in zip(range(0, num_elements-(sequence_length-1)), range(sequence_length, num_elements+1)):\n",
    "        yield data[start:stop, :]"
   ]
  },
  {
   "cell_type": "code",
   "execution_count": 23,
   "id": "31f30017",
   "metadata": {},
   "outputs": [],
   "source": [
    "def gen_data_wrapper(df, sequence_length, columns, unit_nrs=np.array([])):\n",
    "    if unit_nrs.size <= 0:\n",
    "        unit_nrs = df['unit_nr'].unique()\n",
    "        \n",
    "    data_gen = (list(gen_train_data(df[df['unit_nr']== unit_nr], sequence_length, columns))\n",
    "               for unit_nr in unit_nrs)\n",
    "    data_array = np.concatenate(list(data_gen)).astype(np.float32)\n",
    "    \n",
    "    return data_array"
   ]
  },
  {
   "cell_type": "code",
   "execution_count": 24,
   "id": "fa2b432b",
   "metadata": {},
   "outputs": [],
   "source": [
    "def gen_labels(df, sequence_length, label):\n",
    "    data_matrix = df[label].values\n",
    "    num_elements = data_matrix.shape[0]\n",
    "    \n",
    "    return data_matrix[sequence_length-1:num_elements, :]"
   ]
  },
  {
   "cell_type": "code",
   "execution_count": 25,
   "id": "d6006672",
   "metadata": {},
   "outputs": [],
   "source": [
    "def gen_label_wrapper(df, sequence_length, label, unit_nrs=np.array([])):\n",
    "    if unit_nrs.size <= 0:\n",
    "        unit_nrs = df['unit_nr'].unique()\n",
    "        \n",
    "    label_gen = [gen_labels(df[df['unit_nr']==unit_nr], sequence_length, label) \n",
    "                for unit_nr in unit_nrs]\n",
    "    label_array = np.concatenate(label_gen).astype(np.float32)\n",
    "    return label_array"
   ]
  },
  {
   "cell_type": "code",
   "execution_count": 26,
   "id": "aa51db82",
   "metadata": {},
   "outputs": [],
   "source": [
    "def gen_test_data(df, sequence_length, columns, mask_value):\n",
    "    if df.shape[0] < sequence_length:\n",
    "        data_matrix = np.full(shape=(sequence_length, len(columns)), fill_value=mask_value) # pad\n",
    "        idx = data_matrix.shape[0] - df.shape[0]\n",
    "        data_matrix[idx:,:] = df[columns].values  # fill with available data\n",
    "    else:\n",
    "        data_matrix = df[columns].values\n",
    "        \n",
    "    # specifically yield the last possible sequence\n",
    "    stop = num_elements = data_matrix.shape[0]\n",
    "    start = stop - sequence_length\n",
    "    for i in list(range(1)):\n",
    "        yield data_matrix[start:stop, :]"
   ]
  },
  {
   "cell_type": "code",
   "execution_count": 29,
   "id": "9fca740c",
   "metadata": {},
   "outputs": [],
   "source": [
    "sequence_length = 30\n",
    "train['RUL'].clip(upper=120, inplace=True)"
   ]
  },
  {
   "cell_type": "code",
   "execution_count": 30,
   "id": "b78bafd5",
   "metadata": {},
   "outputs": [],
   "source": [
    "X_train_interim = add_operating_condition(train.drop(drop_sensors, axis=1))\n",
    "X_test_interim = add_operating_condition(test.drop(drop_sensors, axis=1))"
   ]
  },
  {
   "cell_type": "code",
   "execution_count": 31,
   "id": "8908161c",
   "metadata": {},
   "outputs": [],
   "source": [
    "X_train_interim, X_test_interim = condition_scaler(X_train_interim, X_test_interim, remaining_sensors)"
   ]
  },
  {
   "cell_type": "code",
   "execution_count": 32,
   "id": "17ac95ef",
   "metadata": {},
   "outputs": [
    {
     "data": {
      "text/html": [
       "<div>\n",
       "<style scoped>\n",
       "    .dataframe tbody tr th:only-of-type {\n",
       "        vertical-align: middle;\n",
       "    }\n",
       "\n",
       "    .dataframe tbody tr th {\n",
       "        vertical-align: top;\n",
       "    }\n",
       "\n",
       "    .dataframe thead th {\n",
       "        text-align: right;\n",
       "    }\n",
       "</style>\n",
       "<table border=\"1\" class=\"dataframe\">\n",
       "  <thead>\n",
       "    <tr style=\"text-align: right;\">\n",
       "      <th></th>\n",
       "      <th>unit_nr</th>\n",
       "      <th>time_cycles</th>\n",
       "      <th>setting_1</th>\n",
       "      <th>setting_2</th>\n",
       "      <th>setting_3</th>\n",
       "      <th>s_2</th>\n",
       "      <th>s_3</th>\n",
       "      <th>s_4</th>\n",
       "      <th>s_7</th>\n",
       "      <th>s_8</th>\n",
       "      <th>...</th>\n",
       "      <th>s_11</th>\n",
       "      <th>s_12</th>\n",
       "      <th>s_13</th>\n",
       "      <th>s_14</th>\n",
       "      <th>s_15</th>\n",
       "      <th>s_17</th>\n",
       "      <th>s_20</th>\n",
       "      <th>s_21</th>\n",
       "      <th>RUL</th>\n",
       "      <th>op_cond</th>\n",
       "    </tr>\n",
       "  </thead>\n",
       "  <tbody>\n",
       "    <tr>\n",
       "      <th>0</th>\n",
       "      <td>1</td>\n",
       "      <td>1</td>\n",
       "      <td>-0.0</td>\n",
       "      <td>-0.0</td>\n",
       "      <td>100.0</td>\n",
       "      <td>-1.711745</td>\n",
       "      <td>-0.135105</td>\n",
       "      <td>-0.911228</td>\n",
       "      <td>1.112411</td>\n",
       "      <td>-0.517249</td>\n",
       "      <td>...</td>\n",
       "      <td>-0.260408</td>\n",
       "      <td>0.325746</td>\n",
       "      <td>-1.051887</td>\n",
       "      <td>-0.275970</td>\n",
       "      <td>-0.588674</td>\n",
       "      <td>-0.786158</td>\n",
       "      <td>1.343200</td>\n",
       "      <td>1.187088</td>\n",
       "      <td>120</td>\n",
       "      <td>-0.0_-0.0_100.0</td>\n",
       "    </tr>\n",
       "    <tr>\n",
       "      <th>1</th>\n",
       "      <td>1</td>\n",
       "      <td>2</td>\n",
       "      <td>0.0</td>\n",
       "      <td>-0.0</td>\n",
       "      <td>100.0</td>\n",
       "      <td>-1.062708</td>\n",
       "      <td>0.231118</td>\n",
       "      <td>-0.626194</td>\n",
       "      <td>0.409087</td>\n",
       "      <td>-0.768519</td>\n",
       "      <td>...</td>\n",
       "      <td>-0.172094</td>\n",
       "      <td>1.162967</td>\n",
       "      <td>-0.334446</td>\n",
       "      <td>-0.660992</td>\n",
       "      <td>-0.261707</td>\n",
       "      <td>-0.754587</td>\n",
       "      <td>0.999187</td>\n",
       "      <td>1.223949</td>\n",
       "      <td>120</td>\n",
       "      <td>0.0_-0.0_100.0</td>\n",
       "    </tr>\n",
       "    <tr>\n",
       "      <th>2</th>\n",
       "      <td>1</td>\n",
       "      <td>3</td>\n",
       "      <td>-0.0</td>\n",
       "      <td>0.0</td>\n",
       "      <td>100.0</td>\n",
       "      <td>-0.663910</td>\n",
       "      <td>-0.412992</td>\n",
       "      <td>-0.515235</td>\n",
       "      <td>1.006845</td>\n",
       "      <td>-0.233282</td>\n",
       "      <td>...</td>\n",
       "      <td>-1.020631</td>\n",
       "      <td>1.382784</td>\n",
       "      <td>-0.930706</td>\n",
       "      <td>-0.556882</td>\n",
       "      <td>-0.657145</td>\n",
       "      <td>-2.082607</td>\n",
       "      <td>0.743954</td>\n",
       "      <td>0.492172</td>\n",
       "      <td>120</td>\n",
       "      <td>-0.0_0.0_100.0</td>\n",
       "    </tr>\n",
       "    <tr>\n",
       "      <th>3</th>\n",
       "      <td>1</td>\n",
       "      <td>4</td>\n",
       "      <td>0.0</td>\n",
       "      <td>0.0</td>\n",
       "      <td>100.0</td>\n",
       "      <td>-0.672971</td>\n",
       "      <td>-1.278257</td>\n",
       "      <td>-0.824098</td>\n",
       "      <td>1.252757</td>\n",
       "      <td>0.161821</td>\n",
       "      <td>...</td>\n",
       "      <td>-1.560422</td>\n",
       "      <td>1.958870</td>\n",
       "      <td>-0.249338</td>\n",
       "      <td>-0.501357</td>\n",
       "      <td>-1.990018</td>\n",
       "      <td>-0.803314</td>\n",
       "      <td>0.371202</td>\n",
       "      <td>0.804103</td>\n",
       "      <td>120</td>\n",
       "      <td>0.0_0.0_100.0</td>\n",
       "    </tr>\n",
       "    <tr>\n",
       "      <th>4</th>\n",
       "      <td>1</td>\n",
       "      <td>5</td>\n",
       "      <td>-0.0</td>\n",
       "      <td>-0.0</td>\n",
       "      <td>100.0</td>\n",
       "      <td>-0.609676</td>\n",
       "      <td>-1.237412</td>\n",
       "      <td>-0.295082</td>\n",
       "      <td>0.706914</td>\n",
       "      <td>-0.517249</td>\n",
       "      <td>...</td>\n",
       "      <td>-0.965121</td>\n",
       "      <td>1.043668</td>\n",
       "      <td>-0.775803</td>\n",
       "      <td>-0.522953</td>\n",
       "      <td>-0.326347</td>\n",
       "      <td>-0.140593</td>\n",
       "      <td>0.462474</td>\n",
       "      <td>1.053262</td>\n",
       "      <td>120</td>\n",
       "      <td>-0.0_-0.0_100.0</td>\n",
       "    </tr>\n",
       "    <tr>\n",
       "      <th>...</th>\n",
       "      <td>...</td>\n",
       "      <td>...</td>\n",
       "      <td>...</td>\n",
       "      <td>...</td>\n",
       "      <td>...</td>\n",
       "      <td>...</td>\n",
       "      <td>...</td>\n",
       "      <td>...</td>\n",
       "      <td>...</td>\n",
       "      <td>...</td>\n",
       "      <td>...</td>\n",
       "      <td>...</td>\n",
       "      <td>...</td>\n",
       "      <td>...</td>\n",
       "      <td>...</td>\n",
       "      <td>...</td>\n",
       "      <td>...</td>\n",
       "      <td>...</td>\n",
       "      <td>...</td>\n",
       "      <td>...</td>\n",
       "      <td>...</td>\n",
       "    </tr>\n",
       "    <tr>\n",
       "      <th>20626</th>\n",
       "      <td>100</td>\n",
       "      <td>196</td>\n",
       "      <td>-0.0</td>\n",
       "      <td>-0.0</td>\n",
       "      <td>100.0</td>\n",
       "      <td>1.634538</td>\n",
       "      <td>1.197319</td>\n",
       "      <td>2.161826</td>\n",
       "      <td>-2.187880</td>\n",
       "      <td>1.307667</td>\n",
       "      <td>...</td>\n",
       "      <td>1.965001</td>\n",
       "      <td>-2.613668</td>\n",
       "      <td>2.261120</td>\n",
       "      <td>-0.328236</td>\n",
       "      <td>1.427800</td>\n",
       "      <td>2.441667</td>\n",
       "      <td>-1.794387</td>\n",
       "      <td>-2.896429</td>\n",
       "      <td>4</td>\n",
       "      <td>-0.0_-0.0_100.0</td>\n",
       "    </tr>\n",
       "    <tr>\n",
       "      <th>20627</th>\n",
       "      <td>100</td>\n",
       "      <td>197</td>\n",
       "      <td>-0.0</td>\n",
       "      <td>-0.0</td>\n",
       "      <td>100.0</td>\n",
       "      <td>1.734726</td>\n",
       "      <td>2.246522</td>\n",
       "      <td>2.704516</td>\n",
       "      <td>-2.829916</td>\n",
       "      <td>1.869180</td>\n",
       "      <td>...</td>\n",
       "      <td>1.853731</td>\n",
       "      <td>-2.356300</td>\n",
       "      <td>1.708952</td>\n",
       "      <td>-0.384602</td>\n",
       "      <td>1.912708</td>\n",
       "      <td>1.150537</td>\n",
       "      <td>-2.840250</td>\n",
       "      <td>-1.192443</td>\n",
       "      <td>3</td>\n",
       "      <td>-0.0_-0.0_100.0</td>\n",
       "    </tr>\n",
       "    <tr>\n",
       "      <th>20628</th>\n",
       "      <td>100</td>\n",
       "      <td>198</td>\n",
       "      <td>0.0</td>\n",
       "      <td>0.0</td>\n",
       "      <td>100.0</td>\n",
       "      <td>1.430003</td>\n",
       "      <td>1.940803</td>\n",
       "      <td>2.094823</td>\n",
       "      <td>-2.678385</td>\n",
       "      <td>1.992825</td>\n",
       "      <td>...</td>\n",
       "      <td>2.009102</td>\n",
       "      <td>-1.868559</td>\n",
       "      <td>1.972668</td>\n",
       "      <td>-0.131343</td>\n",
       "      <td>3.236217</td>\n",
       "      <td>3.046747</td>\n",
       "      <td>-2.047352</td>\n",
       "      <td>-3.267717</td>\n",
       "      <td>2</td>\n",
       "      <td>0.0_0.0_100.0</td>\n",
       "    </tr>\n",
       "    <tr>\n",
       "      <th>20629</th>\n",
       "      <td>100</td>\n",
       "      <td>199</td>\n",
       "      <td>-0.0</td>\n",
       "      <td>0.0</td>\n",
       "      <td>100.0</td>\n",
       "      <td>1.115559</td>\n",
       "      <td>2.394218</td>\n",
       "      <td>1.981004</td>\n",
       "      <td>-3.077687</td>\n",
       "      <td>2.187541</td>\n",
       "      <td>...</td>\n",
       "      <td>3.226986</td>\n",
       "      <td>-2.373727</td>\n",
       "      <td>1.868912</td>\n",
       "      <td>-0.234282</td>\n",
       "      <td>2.591808</td>\n",
       "      <td>1.164933</td>\n",
       "      <td>-2.950170</td>\n",
       "      <td>-2.118742</td>\n",
       "      <td>1</td>\n",
       "      <td>-0.0_0.0_100.0</td>\n",
       "    </tr>\n",
       "    <tr>\n",
       "      <th>20630</th>\n",
       "      <td>100</td>\n",
       "      <td>200</td>\n",
       "      <td>-0.0</td>\n",
       "      <td>-0.0</td>\n",
       "      <td>100.0</td>\n",
       "      <td>2.355892</td>\n",
       "      <td>1.583528</td>\n",
       "      <td>2.546642</td>\n",
       "      <td>-2.908763</td>\n",
       "      <td>2.290315</td>\n",
       "      <td>...</td>\n",
       "      <td>2.447173</td>\n",
       "      <td>-2.871036</td>\n",
       "      <td>2.261120</td>\n",
       "      <td>-0.342072</td>\n",
       "      <td>1.639782</td>\n",
       "      <td>1.796102</td>\n",
       "      <td>-2.454932</td>\n",
       "      <td>-2.175054</td>\n",
       "      <td>0</td>\n",
       "      <td>-0.0_-0.0_100.0</td>\n",
       "    </tr>\n",
       "  </tbody>\n",
       "</table>\n",
       "<p>20631 rows × 21 columns</p>\n",
       "</div>"
      ],
      "text/plain": [
       "       unit_nr  time_cycles  setting_1  setting_2  setting_3       s_2  \\\n",
       "0            1            1       -0.0       -0.0      100.0 -1.711745   \n",
       "1            1            2        0.0       -0.0      100.0 -1.062708   \n",
       "2            1            3       -0.0        0.0      100.0 -0.663910   \n",
       "3            1            4        0.0        0.0      100.0 -0.672971   \n",
       "4            1            5       -0.0       -0.0      100.0 -0.609676   \n",
       "...        ...          ...        ...        ...        ...       ...   \n",
       "20626      100          196       -0.0       -0.0      100.0  1.634538   \n",
       "20627      100          197       -0.0       -0.0      100.0  1.734726   \n",
       "20628      100          198        0.0        0.0      100.0  1.430003   \n",
       "20629      100          199       -0.0        0.0      100.0  1.115559   \n",
       "20630      100          200       -0.0       -0.0      100.0  2.355892   \n",
       "\n",
       "            s_3       s_4       s_7       s_8  ...      s_11      s_12  \\\n",
       "0     -0.135105 -0.911228  1.112411 -0.517249  ... -0.260408  0.325746   \n",
       "1      0.231118 -0.626194  0.409087 -0.768519  ... -0.172094  1.162967   \n",
       "2     -0.412992 -0.515235  1.006845 -0.233282  ... -1.020631  1.382784   \n",
       "3     -1.278257 -0.824098  1.252757  0.161821  ... -1.560422  1.958870   \n",
       "4     -1.237412 -0.295082  0.706914 -0.517249  ... -0.965121  1.043668   \n",
       "...         ...       ...       ...       ...  ...       ...       ...   \n",
       "20626  1.197319  2.161826 -2.187880  1.307667  ...  1.965001 -2.613668   \n",
       "20627  2.246522  2.704516 -2.829916  1.869180  ...  1.853731 -2.356300   \n",
       "20628  1.940803  2.094823 -2.678385  1.992825  ...  2.009102 -1.868559   \n",
       "20629  2.394218  1.981004 -3.077687  2.187541  ...  3.226986 -2.373727   \n",
       "20630  1.583528  2.546642 -2.908763  2.290315  ...  2.447173 -2.871036   \n",
       "\n",
       "           s_13      s_14      s_15      s_17      s_20      s_21  RUL  \\\n",
       "0     -1.051887 -0.275970 -0.588674 -0.786158  1.343200  1.187088  120   \n",
       "1     -0.334446 -0.660992 -0.261707 -0.754587  0.999187  1.223949  120   \n",
       "2     -0.930706 -0.556882 -0.657145 -2.082607  0.743954  0.492172  120   \n",
       "3     -0.249338 -0.501357 -1.990018 -0.803314  0.371202  0.804103  120   \n",
       "4     -0.775803 -0.522953 -0.326347 -0.140593  0.462474  1.053262  120   \n",
       "...         ...       ...       ...       ...       ...       ...  ...   \n",
       "20626  2.261120 -0.328236  1.427800  2.441667 -1.794387 -2.896429    4   \n",
       "20627  1.708952 -0.384602  1.912708  1.150537 -2.840250 -1.192443    3   \n",
       "20628  1.972668 -0.131343  3.236217  3.046747 -2.047352 -3.267717    2   \n",
       "20629  1.868912 -0.234282  2.591808  1.164933 -2.950170 -2.118742    1   \n",
       "20630  2.261120 -0.342072  1.639782  1.796102 -2.454932 -2.175054    0   \n",
       "\n",
       "               op_cond  \n",
       "0      -0.0_-0.0_100.0  \n",
       "1       0.0_-0.0_100.0  \n",
       "2       -0.0_0.0_100.0  \n",
       "3        0.0_0.0_100.0  \n",
       "4      -0.0_-0.0_100.0  \n",
       "...                ...  \n",
       "20626  -0.0_-0.0_100.0  \n",
       "20627  -0.0_-0.0_100.0  \n",
       "20628    0.0_0.0_100.0  \n",
       "20629   -0.0_0.0_100.0  \n",
       "20630  -0.0_-0.0_100.0  \n",
       "\n",
       "[20631 rows x 21 columns]"
      ]
     },
     "execution_count": 32,
     "metadata": {},
     "output_type": "execute_result"
    }
   ],
   "source": [
    "X_train_interim"
   ]
  },
  {
   "cell_type": "code",
   "execution_count": 33,
   "id": "e3df84b7",
   "metadata": {},
   "outputs": [
    {
     "name": "stderr",
     "output_type": "stream",
     "text": [
      "C:\\Users\\aara7182\\AppData\\Local\\Temp\\ipykernel_74380\\3359181580.py:4: FutureWarning: Not prepending group keys to the result index of transform-like apply. In the future, the group keys will be included in the index, regardless of whether the applied function returns a like-indexed object.\n",
      "To preserve the previous behavior, use\n",
      "\n",
      "\t>>> .groupby(..., group_keys=False)\n",
      "\n",
      "To adopt the future behavior and silence this warning, use \n",
      "\n",
      "\t>>> .groupby(..., group_keys=True)\n",
      "  df[sensors] = df.groupby('unit_nr')[sensors].apply(lambda x: x.ewm(alpha=alpha).mean())\n",
      "C:\\Users\\aara7182\\AppData\\Local\\Temp\\ipykernel_74380\\3359181580.py:4: FutureWarning: Not prepending group keys to the result index of transform-like apply. In the future, the group keys will be included in the index, regardless of whether the applied function returns a like-indexed object.\n",
      "To preserve the previous behavior, use\n",
      "\n",
      "\t>>> .groupby(..., group_keys=False)\n",
      "\n",
      "To adopt the future behavior and silence this warning, use \n",
      "\n",
      "\t>>> .groupby(..., group_keys=True)\n",
      "  df[sensors] = df.groupby('unit_nr')[sensors].apply(lambda x: x.ewm(alpha=alpha).mean())\n"
     ]
    }
   ],
   "source": [
    "X_train_interim = exponential_smoothing(X_train_interim, remaining_sensors, 0, 0.4)\n",
    "X_test_interim = exponential_smoothing(X_test_interim, remaining_sensors, 0, 0.4)"
   ]
  },
  {
   "cell_type": "code",
   "execution_count": 34,
   "id": "4cd26455",
   "metadata": {},
   "outputs": [],
   "source": [
    "# train-val split\n",
    "gss = GroupShuffleSplit(n_splits=1, train_size=0.80, random_state=42)\n",
    "for train_unit, val_unit in gss.split(X_train_interim['unit_nr'].unique(), groups=X_train_interim['unit_nr'].unique()):\n",
    "    train_unit = X_train_interim['unit_nr'].unique()[train_unit]  # gss returns indexes and index starts at 1\n",
    "    val_unit = X_train_interim['unit_nr'].unique()[val_unit]\n"
   ]
  },
  {
   "cell_type": "code",
   "execution_count": 35,
   "id": "1c74382f",
   "metadata": {},
   "outputs": [
    {
     "data": {
      "text/plain": [
       "array([  2,   3,   4,   6,   7,   8,   9,  10,  12,  14,  15,  16,  17,\n",
       "        18,  20,  21,  22,  24,  25,  26,  27,  28,  29,  30,  33,  35,\n",
       "        36,  37,  38,  39,  41,  42,  43,  44,  47,  48,  49,  50,  51,\n",
       "        52,  53,  55,  56,  57,  58,  59,  60,  61,  62,  63,  64,  65,\n",
       "        66,  67,  68,  69,  70,  72,  73,  75,  76,  79,  80,  82,  83,\n",
       "        85,  86,  87,  88,  89,  90,  92,  93,  94,  95,  96,  97,  98,\n",
       "        99, 100], dtype=int64)"
      ]
     },
     "execution_count": 35,
     "metadata": {},
     "output_type": "execute_result"
    }
   ],
   "source": [
    "train_unit"
   ]
  },
  {
   "cell_type": "code",
   "execution_count": 36,
   "id": "c71fd714",
   "metadata": {},
   "outputs": [
    {
     "data": {
      "text/plain": [
       "array([ 1,  5, 11, 13, 19, 23, 31, 32, 34, 40, 45, 46, 54, 71, 74, 77, 78,\n",
       "       81, 84, 91], dtype=int64)"
      ]
     },
     "execution_count": 36,
     "metadata": {},
     "output_type": "execute_result"
    }
   ],
   "source": [
    "val_unit"
   ]
  },
  {
   "cell_type": "code",
   "execution_count": 37,
   "id": "99f3359b",
   "metadata": {},
   "outputs": [],
   "source": [
    "train_split_array = gen_data_wrapper(X_train_interim, sequence_length, remaining_sensors, train_unit)\n",
    "set_split_array = gen_data_wrapper(X_train_interim, sequence_length, setting_names, train_unit)"
   ]
  },
  {
   "cell_type": "code",
   "execution_count": 38,
   "id": "df15a5b5",
   "metadata": {},
   "outputs": [],
   "source": [
    "train_split_label = gen_label_wrapper(X_train_interim, sequence_length, ['RUL'], train_unit)"
   ]
  },
  {
   "cell_type": "code",
   "execution_count": 39,
   "id": "8889f2bd",
   "metadata": {},
   "outputs": [
    {
     "data": {
      "text/plain": [
       "array([[120.],\n",
       "       [120.],\n",
       "       [120.],\n",
       "       ...,\n",
       "       [  2.],\n",
       "       [  1.],\n",
       "       [  0.]], dtype=float32)"
      ]
     },
     "execution_count": 39,
     "metadata": {},
     "output_type": "execute_result"
    }
   ],
   "source": [
    "train_split_label"
   ]
  },
  {
   "cell_type": "code",
   "execution_count": 40,
   "id": "4c517b6c",
   "metadata": {},
   "outputs": [],
   "source": [
    "val_split_array = gen_data_wrapper(X_train_interim, sequence_length, remaining_sensors, val_unit)\n",
    "val_set_array = gen_data_wrapper(X_train_interim, sequence_length, setting_names, val_unit)\n",
    "val_split_label = gen_label_wrapper(X_train_interim, sequence_length, ['RUL'], val_unit)"
   ]
  },
  {
   "cell_type": "code",
   "execution_count": 41,
   "id": "59cc3c13",
   "metadata": {},
   "outputs": [],
   "source": [
    "# create sequences train, test \n",
    "train_array = gen_data_wrapper(X_train_interim, sequence_length, remaining_sensors)\n",
    "label_array = gen_label_wrapper(X_train_interim, sequence_length, ['RUL'])\n",
    "set_array = gen_data_wrapper(X_train_interim, sequence_length, setting_names)"
   ]
  },
  {
   "cell_type": "code",
   "execution_count": 42,
   "id": "283bce65",
   "metadata": {},
   "outputs": [
    {
     "data": {
      "text/plain": [
       "array([[[-1.711745  , -0.13510469, -0.91122776, ..., -0.78615814,\n",
       "          1.3432003 ,  1.1870878 ],\n",
       "        [-1.306097  ,  0.09378423, -0.73308146, ..., -0.766426  ,\n",
       "          1.1281922 ,  1.2101259 ],\n",
       "        [-0.9784506 , -0.16477513, -0.6219352 , ..., -1.4379468 ,\n",
       "          0.93215215,  0.8438231 ],\n",
       "        ...,\n",
       "        [-0.5866126 , -0.51064605, -1.0718201 , ..., -0.91061926,\n",
       "          0.8746341 ,  0.71859664],\n",
       "        [-0.9699973 , -0.6763934 , -0.99007565, ..., -0.58959013,\n",
       "          0.7694584 ,  0.6847659 ],\n",
       "        [-0.9688899 , -0.21147586, -1.1632285 , ..., -1.1867969 ,\n",
       "          0.98314285,  0.85670644]],\n",
       "\n",
       "       [[-1.306097  ,  0.09378423, -0.73308146, ..., -0.766426  ,\n",
       "          1.1281922 ,  1.2101259 ],\n",
       "        [-0.9784506 , -0.16477513, -0.6219352 , ..., -1.4379468 ,\n",
       "          0.93215215,  0.8438231 ],\n",
       "        [-0.83806485, -0.6764858 , -0.7148408 , ..., -1.1462957 ,\n",
       "          0.6743626 ,  0.8255693 ],\n",
       "        ...,\n",
       "        [-0.9699973 , -0.6763934 , -0.99007565, ..., -0.58959013,\n",
       "          0.7694584 ,  0.6847659 ],\n",
       "        [-0.9688899 , -0.21147586, -1.1632285 , ..., -1.1867969 ,\n",
       "          0.98314285,  0.85670644],\n",
       "        [-1.1099547 , -0.5471973 , -1.2481318 , ..., -1.0334036 ,\n",
       "          0.87028766,  0.69297564]],\n",
       "\n",
       "       [[-0.9784506 , -0.16477513, -0.6219352 , ..., -1.4379468 ,\n",
       "          0.93215215,  0.8438231 ],\n",
       "        [-0.83806485, -0.6764858 , -0.7148408 , ..., -1.1462957 ,\n",
       "          0.6743626 ,  0.8255693 ],\n",
       "        [-0.73900646, -0.9197742 , -0.53278035, ..., -0.7100957 ,\n",
       "          0.5824609 ,  0.9243257 ],\n",
       "        ...,\n",
       "        [-0.9688899 , -0.21147586, -1.1632285 , ..., -1.1867969 ,\n",
       "          0.98314285,  0.85670644],\n",
       "        [-1.1099547 , -0.5471973 , -1.2481318 , ..., -1.0334036 ,\n",
       "          0.87028766,  0.69297564],\n",
       "        [-0.94634634, -0.26498136, -1.1241411 , ..., -0.9218769 ,\n",
       "          0.9661324 ,  1.1871277 ]],\n",
       "\n",
       "       ...,\n",
       "\n",
       "       [[ 0.7446465 ,  0.668473  ,  1.4795626 , ...,  1.2411978 ,\n",
       "         -0.90909314, -0.7752322 ],\n",
       "        [ 0.47240978,  0.58894193,  1.7315618 , ...,  0.95088863,\n",
       "         -0.9643105 , -0.96861404],\n",
       "        [ 0.58459884,  0.54778486,  1.546259  , ...,  1.2889739 ,\n",
       "         -0.5917601 , -1.087844  ],\n",
       "        ...,\n",
       "        [ 1.5987756 ,  1.3735428 ,  2.1683614 , ...,  1.6785659 ,\n",
       "         -2.3599122 , -2.0416    ],\n",
       "        [ 1.6531558 ,  1.7227343 ,  2.3828232 , ...,  1.4673543 ,\n",
       "         -2.552047  , -1.7019372 ],\n",
       "        [ 1.5638945 ,  1.8099618 ,  2.2676232 , ...,  2.0991113 ,\n",
       "         -2.350169  , -2.3282492 ]],\n",
       "\n",
       "       [[ 0.47240978,  0.58894193,  1.7315618 , ...,  0.95088863,\n",
       "         -0.9643105 , -0.96861404],\n",
       "        [ 0.58459884,  0.54778486,  1.546259  , ...,  1.2889739 ,\n",
       "         -0.5917601 , -1.087844  ],\n",
       "        [ 0.58668214,  1.0971516 ,  1.6486123 , ...,  0.9795543 ,\n",
       "         -1.0873514 , -1.0223742 ],\n",
       "        ...,\n",
       "        [ 1.6531558 ,  1.7227343 ,  2.3828232 , ...,  1.4673543 ,\n",
       "         -2.552047  , -1.7019372 ],\n",
       "        [ 1.5638945 ,  1.8099618 ,  2.2676232 , ...,  2.0991113 ,\n",
       "         -2.350169  , -2.3282492 ],\n",
       "        [ 1.3845605 ,  2.043664  ,  2.1529756 , ...,  1.7254399 ,\n",
       "         -2.5901694 , -2.2444463 ]],\n",
       "\n",
       "       [[ 0.58459884,  0.54778486,  1.546259  , ...,  1.2889739 ,\n",
       "         -0.5917601 , -1.087844  ],\n",
       "        [ 0.58668214,  1.0971516 ,  1.6486123 , ...,  0.9795543 ,\n",
       "         -1.0873514 , -1.0223742 ],\n",
       "        [ 0.9082871 ,  0.9809652 ,  1.4032928 , ...,  0.5230777 ,\n",
       "         -1.5153254 , -1.0111444 ],\n",
       "        ...,\n",
       "        [ 1.5638945 ,  1.8099618 ,  2.2676232 , ...,  2.0991113 ,\n",
       "         -2.350169  , -2.3282492 ],\n",
       "        [ 1.3845605 ,  2.043664  ,  2.1529756 , ...,  1.7254399 ,\n",
       "         -2.5901694 , -2.2444463 ],\n",
       "        [ 1.7730931 ,  1.8596098 ,  2.3104422 , ...,  1.7537048 ,\n",
       "         -2.5360744 , -2.2166893 ]]], dtype=float32)"
      ]
     },
     "execution_count": 42,
     "metadata": {},
     "output_type": "execute_result"
    }
   ],
   "source": [
    "train_array"
   ]
  },
  {
   "cell_type": "code",
   "execution_count": 43,
   "id": "9d0d2443",
   "metadata": {},
   "outputs": [
    {
     "data": {
      "text/plain": [
       "array([[120.],\n",
       "       [120.],\n",
       "       [120.],\n",
       "       ...,\n",
       "       [  2.],\n",
       "       [  1.],\n",
       "       [  0.]], dtype=float32)"
      ]
     },
     "execution_count": 43,
     "metadata": {},
     "output_type": "execute_result"
    }
   ],
   "source": [
    "label_array"
   ]
  },
  {
   "cell_type": "code",
   "execution_count": 44,
   "id": "e5677adb",
   "metadata": {},
   "outputs": [
    {
     "data": {
      "text/plain": [
       "array([[[ -0.,  -0., 100.],\n",
       "        [  0.,  -0., 100.],\n",
       "        [ -0.,   0., 100.],\n",
       "        ...,\n",
       "        [ -0.,   0., 100.],\n",
       "        [  0.,  -0., 100.],\n",
       "        [ -0.,   0., 100.]],\n",
       "\n",
       "       [[  0.,  -0., 100.],\n",
       "        [ -0.,   0., 100.],\n",
       "        [  0.,   0., 100.],\n",
       "        ...,\n",
       "        [  0.,  -0., 100.],\n",
       "        [ -0.,   0., 100.],\n",
       "        [  0.,   0., 100.]],\n",
       "\n",
       "       [[ -0.,   0., 100.],\n",
       "        [  0.,   0., 100.],\n",
       "        [ -0.,  -0., 100.],\n",
       "        ...,\n",
       "        [ -0.,   0., 100.],\n",
       "        [  0.,   0., 100.],\n",
       "        [  0.,  -0., 100.]],\n",
       "\n",
       "       ...,\n",
       "\n",
       "       [[ -0.,  -0., 100.],\n",
       "        [ -0.,   0., 100.],\n",
       "        [ -0.,  -0., 100.],\n",
       "        ...,\n",
       "        [ -0.,  -0., 100.],\n",
       "        [ -0.,  -0., 100.],\n",
       "        [  0.,   0., 100.]],\n",
       "\n",
       "       [[ -0.,   0., 100.],\n",
       "        [ -0.,  -0., 100.],\n",
       "        [ -0.,   0., 100.],\n",
       "        ...,\n",
       "        [ -0.,  -0., 100.],\n",
       "        [  0.,   0., 100.],\n",
       "        [ -0.,   0., 100.]],\n",
       "\n",
       "       [[ -0.,  -0., 100.],\n",
       "        [ -0.,   0., 100.],\n",
       "        [  0.,   0., 100.],\n",
       "        ...,\n",
       "        [  0.,   0., 100.],\n",
       "        [ -0.,   0., 100.],\n",
       "        [ -0.,  -0., 100.]]], dtype=float32)"
      ]
     },
     "execution_count": 44,
     "metadata": {},
     "output_type": "execute_result"
    }
   ],
   "source": [
    "set_array"
   ]
  },
  {
   "cell_type": "code",
   "execution_count": 45,
   "id": "d34a7489",
   "metadata": {},
   "outputs": [],
   "source": [
    "test_gen = (list(gen_test_data(X_test_interim[X_test_interim['unit_nr']==unit_nr], sequence_length, remaining_sensors, -99.))\n",
    "           for unit_nr in X_test_interim['unit_nr'].unique())\n",
    "test_array = np.concatenate(list(test_gen)).astype(np.float32)\n",
    "test_gen = (list(gen_test_data(X_test_interim[X_test_interim['unit_nr']==unit_nr], sequence_length, setting_names, -99.))\n",
    "           for unit_nr in X_test_interim['unit_nr'].unique())\n",
    "test_set = np.concatenate(list(test_gen)).astype(np.float32)"
   ]
  },
  {
   "cell_type": "code",
   "execution_count": 46,
   "id": "8ef9290f",
   "metadata": {},
   "outputs": [
    {
     "data": {
      "text/plain": [
       "((100, 30, 14), (17731, 30, 14))"
      ]
     },
     "execution_count": 46,
     "metadata": {},
     "output_type": "execute_result"
    }
   ],
   "source": [
    "test_array.shape, train_array.shape"
   ]
  },
  {
   "cell_type": "code",
   "execution_count": 47,
   "id": "24a6a2e1",
   "metadata": {},
   "outputs": [],
   "source": [
    "import keras\n",
    "import keras.backend as K\n",
    "from keras.layers.core import Activation\n",
    "from keras.models import Sequential,load_model\n",
    "from keras.layers import Dense, Dropout, LSTM\n",
    "from tensorflow.keras.utils import plot_model\n",
    "from IPython.core.display import Image\n",
    "\n",
    "import pandas as pd\n",
    "import numpy as np\n",
    "import matplotlib.pyplot as plt\n",
    "import os\n",
    "from sklearn import preprocessing"
   ]
  },
  {
   "cell_type": "code",
   "execution_count": 48,
   "id": "7863c2e8",
   "metadata": {},
   "outputs": [],
   "source": [
    "import tensorflow as tf\n",
    "from tensorflow import keras\n",
    "from tensorflow.keras import Model\n",
    "\n",
    "from tensorflow.keras.utils import plot_model\n",
    "from tensorflow.keras.layers import Input, Dense, BatchNormalization\n",
    "from IPython.core.display import Image"
   ]
  },
  {
   "cell_type": "code",
   "execution_count": 49,
   "id": "70f348e8",
   "metadata": {},
   "outputs": [],
   "source": [
    "model_path = './'\n",
    "model = Sequential()\n",
    "model.add(Masking(mask_value=-99., input_shape=(sequence_length, train_array.shape[2])))\n",
    "model.add(LSTM(units=256, return_sequences=True))\n",
    "model.add(Dropout(0.1))\n",
    "model.add(LSTM(units=128,return_sequences=False))\n",
    "model.add(Dropout(0.1))\n",
    "\n",
    "model.add(Dense(1))\n",
    "model.add(Activation(\"linear\"))\n",
    "\n",
    "model.compile(loss='mean_squared_error', optimizer='adam')\n",
    "model.save_weights('simple_lstm_weights2.h5')"
   ]
  },
  {
   "cell_type": "code",
   "execution_count": 50,
   "id": "436334fd",
   "metadata": {},
   "outputs": [
    {
     "name": "stdout",
     "output_type": "stream",
     "text": [
      "Model: \"sequential\"\n",
      "_________________________________________________________________\n",
      " Layer (type)                Output Shape              Param #   \n",
      "=================================================================\n",
      " masking (Masking)           (None, 30, 14)            0         \n",
      "                                                                 \n",
      " lstm (LSTM)                 (None, 30, 256)           277504    \n",
      "                                                                 \n",
      " dropout (Dropout)           (None, 30, 256)           0         \n",
      "                                                                 \n",
      " lstm_1 (LSTM)               (None, 128)               197120    \n",
      "                                                                 \n",
      " dropout_1 (Dropout)         (None, 128)               0         \n",
      "                                                                 \n",
      " dense (Dense)               (None, 1)                 129       \n",
      "                                                                 \n",
      " activation (Activation)     (None, 1)                 0         \n",
      "                                                                 \n",
      "=================================================================\n",
      "Total params: 474,753\n",
      "Trainable params: 474,753\n",
      "Non-trainable params: 0\n",
      "_________________________________________________________________\n",
      "None\n"
     ]
    }
   ],
   "source": [
    "print(model.summary())"
   ]
  },
  {
   "cell_type": "code",
   "execution_count": 51,
   "id": "f5beecdd",
   "metadata": {},
   "outputs": [],
   "source": [
    "model.compile(loss='mean_squared_error', optimizer='adam')"
   ]
  },
  {
   "cell_type": "code",
   "execution_count": 52,
   "id": "5a7db7f9",
   "metadata": {},
   "outputs": [
    {
     "data": {
      "text/plain": [
       "((14241, 30, 14), (14241, 1))"
      ]
     },
     "execution_count": 52,
     "metadata": {},
     "output_type": "execute_result"
    }
   ],
   "source": [
    "train_split_array.shape,train_split_label.shape"
   ]
  },
  {
   "cell_type": "code",
   "execution_count": 53,
   "id": "eb8ecc2f",
   "metadata": {},
   "outputs": [
    {
     "name": "stdout",
     "output_type": "stream",
     "text": [
      "Epoch 1/100\n",
      "112/112 [==============================] - ETA: 0s - loss: 5410.7778"
     ]
    },
    {
     "name": "stderr",
     "output_type": "stream",
     "text": [
      "WARNING:absl:Found untraced functions such as _update_step_xla, lstm_cell_layer_call_fn, lstm_cell_layer_call_and_return_conditional_losses, lstm_cell_1_layer_call_fn, lstm_cell_1_layer_call_and_return_conditional_losses while saving (showing 5 of 5). These functions will not be directly callable after loading.\n"
     ]
    },
    {
     "name": "stdout",
     "output_type": "stream",
     "text": [
      "INFO:tensorflow:Assets written to: .\\assets\n"
     ]
    },
    {
     "name": "stderr",
     "output_type": "stream",
     "text": [
      "INFO:tensorflow:Assets written to: .\\assets\n"
     ]
    },
    {
     "name": "stdout",
     "output_type": "stream",
     "text": [
      "112/112 [==============================] - 30s 224ms/step - loss: 5410.7778 - val_loss: 4347.4297\n",
      "Epoch 2/100\n",
      "112/112 [==============================] - ETA: 0s - loss: 3817.3389"
     ]
    },
    {
     "name": "stderr",
     "output_type": "stream",
     "text": [
      "WARNING:absl:Found untraced functions such as _update_step_xla, lstm_cell_layer_call_fn, lstm_cell_layer_call_and_return_conditional_losses, lstm_cell_1_layer_call_fn, lstm_cell_1_layer_call_and_return_conditional_losses while saving (showing 5 of 5). These functions will not be directly callable after loading.\n"
     ]
    },
    {
     "name": "stdout",
     "output_type": "stream",
     "text": [
      "INFO:tensorflow:Assets written to: .\\assets\n"
     ]
    },
    {
     "name": "stderr",
     "output_type": "stream",
     "text": [
      "INFO:tensorflow:Assets written to: .\\assets\n"
     ]
    },
    {
     "name": "stdout",
     "output_type": "stream",
     "text": [
      "112/112 [==============================] - 22s 201ms/step - loss: 3817.3389 - val_loss: 3215.8367\n",
      "Epoch 3/100\n",
      "112/112 [==============================] - ETA: 0s - loss: 2776.3840"
     ]
    },
    {
     "name": "stderr",
     "output_type": "stream",
     "text": [
      "WARNING:absl:Found untraced functions such as _update_step_xla, lstm_cell_layer_call_fn, lstm_cell_layer_call_and_return_conditional_losses, lstm_cell_1_layer_call_fn, lstm_cell_1_layer_call_and_return_conditional_losses while saving (showing 5 of 5). These functions will not be directly callable after loading.\n"
     ]
    },
    {
     "name": "stdout",
     "output_type": "stream",
     "text": [
      "INFO:tensorflow:Assets written to: .\\assets\n"
     ]
    },
    {
     "name": "stderr",
     "output_type": "stream",
     "text": [
      "INFO:tensorflow:Assets written to: .\\assets\n"
     ]
    },
    {
     "name": "stdout",
     "output_type": "stream",
     "text": [
      "112/112 [==============================] - 27s 237ms/step - loss: 2776.3840 - val_loss: 2254.6045\n",
      "Epoch 4/100\n",
      "112/112 [==============================] - ETA: 0s - loss: 1984.5846"
     ]
    },
    {
     "name": "stderr",
     "output_type": "stream",
     "text": [
      "WARNING:absl:Found untraced functions such as _update_step_xla, lstm_cell_layer_call_fn, lstm_cell_layer_call_and_return_conditional_losses, lstm_cell_1_layer_call_fn, lstm_cell_1_layer_call_and_return_conditional_losses while saving (showing 5 of 5). These functions will not be directly callable after loading.\n"
     ]
    },
    {
     "name": "stdout",
     "output_type": "stream",
     "text": [
      "INFO:tensorflow:Assets written to: .\\assets\n"
     ]
    },
    {
     "name": "stderr",
     "output_type": "stream",
     "text": [
      "INFO:tensorflow:Assets written to: .\\assets\n"
     ]
    },
    {
     "name": "stdout",
     "output_type": "stream",
     "text": [
      "112/112 [==============================] - 30s 271ms/step - loss: 1984.5846 - val_loss: 1613.1738\n",
      "Epoch 5/100\n",
      "112/112 [==============================] - ETA: 0s - loss: 1414.6033"
     ]
    },
    {
     "name": "stderr",
     "output_type": "stream",
     "text": [
      "WARNING:absl:Found untraced functions such as _update_step_xla, lstm_cell_layer_call_fn, lstm_cell_layer_call_and_return_conditional_losses, lstm_cell_1_layer_call_fn, lstm_cell_1_layer_call_and_return_conditional_losses while saving (showing 5 of 5). These functions will not be directly callable after loading.\n"
     ]
    },
    {
     "name": "stdout",
     "output_type": "stream",
     "text": [
      "INFO:tensorflow:Assets written to: .\\assets\n"
     ]
    },
    {
     "name": "stderr",
     "output_type": "stream",
     "text": [
      "INFO:tensorflow:Assets written to: .\\assets\n"
     ]
    },
    {
     "name": "stdout",
     "output_type": "stream",
     "text": [
      "112/112 [==============================] - 42s 377ms/step - loss: 1414.6033 - val_loss: 1144.4233\n",
      "Epoch 6/100\n",
      "112/112 [==============================] - ETA: 0s - loss: 1004.8311"
     ]
    },
    {
     "name": "stderr",
     "output_type": "stream",
     "text": [
      "WARNING:absl:Found untraced functions such as _update_step_xla, lstm_cell_layer_call_fn, lstm_cell_layer_call_and_return_conditional_losses, lstm_cell_1_layer_call_fn, lstm_cell_1_layer_call_and_return_conditional_losses while saving (showing 5 of 5). These functions will not be directly callable after loading.\n"
     ]
    },
    {
     "name": "stdout",
     "output_type": "stream",
     "text": [
      "INFO:tensorflow:Assets written to: .\\assets\n"
     ]
    },
    {
     "name": "stderr",
     "output_type": "stream",
     "text": [
      "INFO:tensorflow:Assets written to: .\\assets\n"
     ]
    },
    {
     "name": "stdout",
     "output_type": "stream",
     "text": [
      "112/112 [==============================] - 47s 422ms/step - loss: 1004.8311 - val_loss: 805.7361\n",
      "Epoch 7/100\n",
      "112/112 [==============================] - ETA: 0s - loss: 745.6780"
     ]
    },
    {
     "name": "stderr",
     "output_type": "stream",
     "text": [
      "WARNING:absl:Found untraced functions such as _update_step_xla, lstm_cell_layer_call_fn, lstm_cell_layer_call_and_return_conditional_losses, lstm_cell_1_layer_call_fn, lstm_cell_1_layer_call_and_return_conditional_losses while saving (showing 5 of 5). These functions will not be directly callable after loading.\n"
     ]
    },
    {
     "name": "stdout",
     "output_type": "stream",
     "text": [
      "INFO:tensorflow:Assets written to: .\\assets\n"
     ]
    },
    {
     "name": "stderr",
     "output_type": "stream",
     "text": [
      "INFO:tensorflow:Assets written to: .\\assets\n"
     ]
    },
    {
     "name": "stdout",
     "output_type": "stream",
     "text": [
      "112/112 [==============================] - 44s 396ms/step - loss: 745.6780 - val_loss: 588.0544\n",
      "Epoch 8/100\n",
      "112/112 [==============================] - ETA: 0s - loss: 546.5151"
     ]
    },
    {
     "name": "stderr",
     "output_type": "stream",
     "text": [
      "WARNING:absl:Found untraced functions such as _update_step_xla, lstm_cell_layer_call_fn, lstm_cell_layer_call_and_return_conditional_losses, lstm_cell_1_layer_call_fn, lstm_cell_1_layer_call_and_return_conditional_losses while saving (showing 5 of 5). These functions will not be directly callable after loading.\n"
     ]
    },
    {
     "name": "stdout",
     "output_type": "stream",
     "text": [
      "INFO:tensorflow:Assets written to: .\\assets\n"
     ]
    },
    {
     "name": "stderr",
     "output_type": "stream",
     "text": [
      "INFO:tensorflow:Assets written to: .\\assets\n"
     ]
    },
    {
     "name": "stdout",
     "output_type": "stream",
     "text": [
      "112/112 [==============================] - 58s 515ms/step - loss: 546.5151 - val_loss: 451.4594\n",
      "Epoch 9/100\n",
      "112/112 [==============================] - ETA: 0s - loss: 418.0974"
     ]
    },
    {
     "name": "stderr",
     "output_type": "stream",
     "text": [
      "WARNING:absl:Found untraced functions such as _update_step_xla, lstm_cell_layer_call_fn, lstm_cell_layer_call_and_return_conditional_losses, lstm_cell_1_layer_call_fn, lstm_cell_1_layer_call_and_return_conditional_losses while saving (showing 5 of 5). These functions will not be directly callable after loading.\n"
     ]
    },
    {
     "name": "stdout",
     "output_type": "stream",
     "text": [
      "INFO:tensorflow:Assets written to: .\\assets\n"
     ]
    },
    {
     "name": "stderr",
     "output_type": "stream",
     "text": [
      "INFO:tensorflow:Assets written to: .\\assets\n"
     ]
    },
    {
     "name": "stdout",
     "output_type": "stream",
     "text": [
      "112/112 [==============================] - 62s 558ms/step - loss: 418.0974 - val_loss: 358.9786\n",
      "Epoch 10/100\n",
      "112/112 [==============================] - ETA: 0s - loss: 331.5938"
     ]
    },
    {
     "name": "stderr",
     "output_type": "stream",
     "text": [
      "WARNING:absl:Found untraced functions such as _update_step_xla, lstm_cell_layer_call_fn, lstm_cell_layer_call_and_return_conditional_losses, lstm_cell_1_layer_call_fn, lstm_cell_1_layer_call_and_return_conditional_losses while saving (showing 5 of 5). These functions will not be directly callable after loading.\n"
     ]
    },
    {
     "name": "stdout",
     "output_type": "stream",
     "text": [
      "INFO:tensorflow:Assets written to: .\\assets\n"
     ]
    },
    {
     "name": "stderr",
     "output_type": "stream",
     "text": [
      "INFO:tensorflow:Assets written to: .\\assets\n"
     ]
    },
    {
     "name": "stdout",
     "output_type": "stream",
     "text": [
      "112/112 [==============================] - 56s 500ms/step - loss: 331.5938 - val_loss: 262.4236\n",
      "Epoch 11/100\n",
      "112/112 [==============================] - 50s 444ms/step - loss: 969.0366 - val_loss: 426.4884\n",
      "Epoch 12/100\n",
      "112/112 [==============================] - 50s 445ms/step - loss: 462.2658 - val_loss: 323.3595\n",
      "Epoch 13/100\n",
      "112/112 [==============================] - ETA: 0s - loss: 326.8608"
     ]
    },
    {
     "name": "stderr",
     "output_type": "stream",
     "text": [
      "WARNING:absl:Found untraced functions such as _update_step_xla, lstm_cell_layer_call_fn, lstm_cell_layer_call_and_return_conditional_losses, lstm_cell_1_layer_call_fn, lstm_cell_1_layer_call_and_return_conditional_losses while saving (showing 5 of 5). These functions will not be directly callable after loading.\n"
     ]
    },
    {
     "name": "stdout",
     "output_type": "stream",
     "text": [
      "INFO:tensorflow:Assets written to: .\\assets\n"
     ]
    },
    {
     "name": "stderr",
     "output_type": "stream",
     "text": [
      "INFO:tensorflow:Assets written to: .\\assets\n"
     ]
    },
    {
     "name": "stdout",
     "output_type": "stream",
     "text": [
      "112/112 [==============================] - 58s 523ms/step - loss: 326.8608 - val_loss: 224.2365\n",
      "Epoch 14/100\n",
      "112/112 [==============================] - ETA: 0s - loss: 268.2289"
     ]
    },
    {
     "name": "stderr",
     "output_type": "stream",
     "text": [
      "WARNING:absl:Found untraced functions such as _update_step_xla, lstm_cell_layer_call_fn, lstm_cell_layer_call_and_return_conditional_losses, lstm_cell_1_layer_call_fn, lstm_cell_1_layer_call_and_return_conditional_losses while saving (showing 5 of 5). These functions will not be directly callable after loading.\n"
     ]
    },
    {
     "name": "stdout",
     "output_type": "stream",
     "text": [
      "INFO:tensorflow:Assets written to: .\\assets\n"
     ]
    },
    {
     "name": "stderr",
     "output_type": "stream",
     "text": [
      "INFO:tensorflow:Assets written to: .\\assets\n"
     ]
    },
    {
     "name": "stdout",
     "output_type": "stream",
     "text": [
      "112/112 [==============================] - 57s 507ms/step - loss: 268.2289 - val_loss: 194.8664\n",
      "Epoch 15/100\n",
      "112/112 [==============================] - ETA: 0s - loss: 238.6696"
     ]
    },
    {
     "name": "stderr",
     "output_type": "stream",
     "text": [
      "WARNING:absl:Found untraced functions such as _update_step_xla, lstm_cell_layer_call_fn, lstm_cell_layer_call_and_return_conditional_losses, lstm_cell_1_layer_call_fn, lstm_cell_1_layer_call_and_return_conditional_losses while saving (showing 5 of 5). These functions will not be directly callable after loading.\n"
     ]
    },
    {
     "name": "stdout",
     "output_type": "stream",
     "text": [
      "INFO:tensorflow:Assets written to: .\\assets\n"
     ]
    },
    {
     "name": "stderr",
     "output_type": "stream",
     "text": [
      "INFO:tensorflow:Assets written to: .\\assets\n"
     ]
    },
    {
     "name": "stdout",
     "output_type": "stream",
     "text": [
      "112/112 [==============================] - 64s 570ms/step - loss: 238.6696 - val_loss: 184.3972\n",
      "Epoch 16/100\n",
      "112/112 [==============================] - ETA: 0s - loss: 217.5846"
     ]
    },
    {
     "name": "stderr",
     "output_type": "stream",
     "text": [
      "WARNING:absl:Found untraced functions such as _update_step_xla, lstm_cell_layer_call_fn, lstm_cell_layer_call_and_return_conditional_losses, lstm_cell_1_layer_call_fn, lstm_cell_1_layer_call_and_return_conditional_losses while saving (showing 5 of 5). These functions will not be directly callable after loading.\n"
     ]
    },
    {
     "name": "stdout",
     "output_type": "stream",
     "text": [
      "INFO:tensorflow:Assets written to: .\\assets\n"
     ]
    },
    {
     "name": "stderr",
     "output_type": "stream",
     "text": [
      "INFO:tensorflow:Assets written to: .\\assets\n"
     ]
    },
    {
     "name": "stdout",
     "output_type": "stream",
     "text": [
      "112/112 [==============================] - 65s 580ms/step - loss: 217.5846 - val_loss: 180.6337\n",
      "Epoch 17/100\n",
      "112/112 [==============================] - ETA: 0s - loss: 195.7260"
     ]
    },
    {
     "name": "stderr",
     "output_type": "stream",
     "text": [
      "WARNING:absl:Found untraced functions such as _update_step_xla, lstm_cell_layer_call_fn, lstm_cell_layer_call_and_return_conditional_losses, lstm_cell_1_layer_call_fn, lstm_cell_1_layer_call_and_return_conditional_losses while saving (showing 5 of 5). These functions will not be directly callable after loading.\n"
     ]
    },
    {
     "name": "stdout",
     "output_type": "stream",
     "text": [
      "INFO:tensorflow:Assets written to: .\\assets\n"
     ]
    },
    {
     "name": "stderr",
     "output_type": "stream",
     "text": [
      "INFO:tensorflow:Assets written to: .\\assets\n"
     ]
    },
    {
     "name": "stdout",
     "output_type": "stream",
     "text": [
      "112/112 [==============================] - 62s 556ms/step - loss: 195.7260 - val_loss: 149.2998\n",
      "Epoch 18/100\n",
      "112/112 [==============================] - 45s 398ms/step - loss: 180.2827 - val_loss: 162.5363\n",
      "Epoch 19/100\n",
      "112/112 [==============================] - 45s 401ms/step - loss: 179.8918 - val_loss: 152.8681\n",
      "Epoch 20/100\n",
      "112/112 [==============================] - ETA: 0s - loss: 171.3515"
     ]
    },
    {
     "name": "stderr",
     "output_type": "stream",
     "text": [
      "WARNING:absl:Found untraced functions such as _update_step_xla, lstm_cell_layer_call_fn, lstm_cell_layer_call_and_return_conditional_losses, lstm_cell_1_layer_call_fn, lstm_cell_1_layer_call_and_return_conditional_losses while saving (showing 5 of 5). These functions will not be directly callable after loading.\n"
     ]
    },
    {
     "name": "stdout",
     "output_type": "stream",
     "text": [
      "INFO:tensorflow:Assets written to: .\\assets\n"
     ]
    },
    {
     "name": "stderr",
     "output_type": "stream",
     "text": [
      "INFO:tensorflow:Assets written to: .\\assets\n"
     ]
    },
    {
     "name": "stdout",
     "output_type": "stream",
     "text": [
      "112/112 [==============================] - 54s 479ms/step - loss: 171.3515 - val_loss: 145.2868\n",
      "Epoch 21/100\n",
      "112/112 [==============================] - 56s 498ms/step - loss: 163.4455 - val_loss: 172.9703\n",
      "Epoch 22/100\n",
      "112/112 [==============================] - 56s 502ms/step - loss: 163.3749 - val_loss: 147.3504\n",
      "Epoch 23/100\n",
      "112/112 [==============================] - 56s 503ms/step - loss: 155.5392 - val_loss: 147.7064\n",
      "Epoch 24/100\n",
      "112/112 [==============================] - 56s 499ms/step - loss: 152.7067 - val_loss: 148.3405\n",
      "Epoch 25/100\n",
      "112/112 [==============================] - 57s 508ms/step - loss: 159.8920 - val_loss: 154.0461\n",
      "Epoch 26/100\n",
      "112/112 [==============================] - 57s 513ms/step - loss: 197.5327 - val_loss: 183.6340\n",
      "Epoch 27/100\n",
      "112/112 [==============================] - 56s 500ms/step - loss: 174.1239 - val_loss: 173.6711\n",
      "Epoch 28/100\n",
      "112/112 [==============================] - 56s 505ms/step - loss: 157.6874 - val_loss: 153.0332\n",
      "Epoch 29/100\n",
      "112/112 [==============================] - 58s 515ms/step - loss: 152.4462 - val_loss: 155.7511\n",
      "Epoch 30/100\n",
      "112/112 [==============================] - ETA: 0s - loss: 153.0182"
     ]
    },
    {
     "name": "stderr",
     "output_type": "stream",
     "text": [
      "WARNING:absl:Found untraced functions such as _update_step_xla, lstm_cell_layer_call_fn, lstm_cell_layer_call_and_return_conditional_losses, lstm_cell_1_layer_call_fn, lstm_cell_1_layer_call_and_return_conditional_losses while saving (showing 5 of 5). These functions will not be directly callable after loading.\n"
     ]
    },
    {
     "name": "stdout",
     "output_type": "stream",
     "text": [
      "INFO:tensorflow:Assets written to: .\\assets\n"
     ]
    },
    {
     "name": "stderr",
     "output_type": "stream",
     "text": [
      "INFO:tensorflow:Assets written to: .\\assets\n"
     ]
    },
    {
     "name": "stdout",
     "output_type": "stream",
     "text": [
      "112/112 [==============================] - 65s 582ms/step - loss: 153.0182 - val_loss: 139.2621\n",
      "Epoch 31/100\n",
      "112/112 [==============================] - ETA: 0s - loss: 141.5861"
     ]
    },
    {
     "name": "stderr",
     "output_type": "stream",
     "text": [
      "WARNING:absl:Found untraced functions such as _update_step_xla, lstm_cell_layer_call_fn, lstm_cell_layer_call_and_return_conditional_losses, lstm_cell_1_layer_call_fn, lstm_cell_1_layer_call_and_return_conditional_losses while saving (showing 5 of 5). These functions will not be directly callable after loading.\n"
     ]
    },
    {
     "name": "stdout",
     "output_type": "stream",
     "text": [
      "INFO:tensorflow:Assets written to: .\\assets\n"
     ]
    },
    {
     "name": "stderr",
     "output_type": "stream",
     "text": [
      "INFO:tensorflow:Assets written to: .\\assets\n"
     ]
    },
    {
     "name": "stdout",
     "output_type": "stream",
     "text": [
      "112/112 [==============================] - 72s 642ms/step - loss: 141.5861 - val_loss: 128.9236\n",
      "Epoch 32/100\n",
      "112/112 [==============================] - 59s 526ms/step - loss: 138.7209 - val_loss: 135.0870\n",
      "Epoch 33/100\n",
      "112/112 [==============================] - 61s 541ms/step - loss: 142.8699 - val_loss: 132.1804\n",
      "Epoch 34/100\n",
      "112/112 [==============================] - 59s 528ms/step - loss: 135.1703 - val_loss: 134.8789\n",
      "Epoch 35/100\n",
      "112/112 [==============================] - 59s 531ms/step - loss: 130.7614 - val_loss: 133.6232\n",
      "Epoch 36/100\n",
      "112/112 [==============================] - 60s 537ms/step - loss: 131.0860 - val_loss: 148.2376\n",
      "Epoch 37/100\n",
      "112/112 [==============================] - ETA: 0s - loss: 125.2475"
     ]
    },
    {
     "name": "stderr",
     "output_type": "stream",
     "text": [
      "WARNING:absl:Found untraced functions such as _update_step_xla, lstm_cell_layer_call_fn, lstm_cell_layer_call_and_return_conditional_losses, lstm_cell_1_layer_call_fn, lstm_cell_1_layer_call_and_return_conditional_losses while saving (showing 5 of 5). These functions will not be directly callable after loading.\n"
     ]
    },
    {
     "name": "stdout",
     "output_type": "stream",
     "text": [
      "INFO:tensorflow:Assets written to: .\\assets\n"
     ]
    },
    {
     "name": "stderr",
     "output_type": "stream",
     "text": [
      "INFO:tensorflow:Assets written to: .\\assets\n"
     ]
    },
    {
     "name": "stdout",
     "output_type": "stream",
     "text": [
      "112/112 [==============================] - 69s 615ms/step - loss: 125.2475 - val_loss: 125.2847\n",
      "Epoch 38/100\n",
      "112/112 [==============================] - 61s 541ms/step - loss: 124.5448 - val_loss: 136.9599\n",
      "Epoch 39/100\n",
      "112/112 [==============================] - 60s 540ms/step - loss: 125.0701 - val_loss: 136.5880\n",
      "Epoch 40/100\n",
      "112/112 [==============================] - 60s 540ms/step - loss: 123.8333 - val_loss: 147.7061\n",
      "Epoch 41/100\n",
      "112/112 [==============================] - 60s 539ms/step - loss: 121.1873 - val_loss: 132.9247\n",
      "Epoch 42/100\n",
      "112/112 [==============================] - 60s 534ms/step - loss: 122.5120 - val_loss: 132.0368\n",
      "Epoch 43/100\n",
      "112/112 [==============================] - 60s 533ms/step - loss: 121.5957 - val_loss: 134.6084\n",
      "Epoch 44/100\n",
      "112/112 [==============================] - 59s 530ms/step - loss: 121.2477 - val_loss: 129.8007\n",
      "Epoch 45/100\n",
      "112/112 [==============================] - 59s 531ms/step - loss: 120.0359 - val_loss: 129.6493\n",
      "Epoch 46/100\n",
      "112/112 [==============================] - 59s 530ms/step - loss: 113.8984 - val_loss: 133.6921\n",
      "Epoch 47/100\n",
      "112/112 [==============================] - 59s 531ms/step - loss: 119.3139 - val_loss: 132.9765\n",
      "Training time :  2578.3618783950806\n"
     ]
    }
   ],
   "source": [
    "model.load_weights('simple_lstm_weights2.h5') \n",
    "before = time.time()\n",
    "history = model.fit(train_split_array, train_split_label,\n",
    "                    validation_data=(val_split_array, val_split_label),\n",
    "                    epochs=100,\n",
    "                    batch_size=128,\n",
    "                    callbacks = [keras.callbacks.EarlyStopping(monitor='val_loss', min_delta=0, patience=10, verbose=0, mode='min'),\n",
    "                    keras.callbacks.ModelCheckpoint(model_path,monitor='val_loss', save_best_only=True, mode='min', verbose=0)])\n",
    "\n",
    "after = time.time()\n",
    "duration2 = after - before\n",
    "print(\"Training time : \",duration2)"
   ]
  },
  {
   "cell_type": "code",
   "execution_count": 54,
   "id": "9720a452",
   "metadata": {},
   "outputs": [],
   "source": [
    "# plot history\n",
    "def plot_loss(fit_history):\n",
    "    plt.figure(figsize=(13,5))\n",
    "    plt.plot(range(1, len(fit_history.history['loss'])+1), fit_history.history['loss'], label='train')\n",
    "    plt.plot(range(1, len(fit_history.history['val_loss'])+1), fit_history.history['val_loss'], label='validate')\n",
    "    plt.xlabel('Epochs')\n",
    "    plt.ylabel('Loss')\n",
    "    plt.legend()\n",
    "    plt.show()"
   ]
  },
  {
   "cell_type": "code",
   "execution_count": 55,
   "id": "c6eb4bf0",
   "metadata": {},
   "outputs": [
    {
     "data": {
      "image/png": "[encoded data removed]",
      "text/plain": [
       "<Figure size 1300x500 with 1 Axes>"
      ]
     },
     "metadata": {},
     "output_type": "display_data"
    }
   ],
   "source": [
    "plot_loss(history)"
   ]
  },
  {
   "cell_type": "code",
   "execution_count": 56,
   "id": "aec681cc",
   "metadata": {},
   "outputs": [
    {
     "name": "stdout",
     "output_type": "stream",
     "text": [
      "555/555 [==============================] - 26s 45ms/step\n"
     ]
    }
   ],
   "source": [
    "y_hat_train = model.predict(train_array)"
   ]
  },
  {
   "cell_type": "code",
   "execution_count": 57,
   "id": "5c026cd7",
   "metadata": {},
   "outputs": [
    {
     "name": "stdout",
     "output_type": "stream",
     "text": [
      "train set RMSE: 10.38437557220459, R2: 0.9332180436201801\n"
     ]
    }
   ],
   "source": [
    "evaluate(label_array, y_hat_train, 'train')"
   ]
  },
  {
   "cell_type": "code",
   "execution_count": 58,
   "id": "49fd42f1",
   "metadata": {},
   "outputs": [
    {
     "name": "stdout",
     "output_type": "stream",
     "text": [
      "4/4 [==============================] - 0s 36ms/step\n"
     ]
    }
   ],
   "source": [
    "y_hat_test = model.predict(test_array)"
   ]
  },
  {
   "cell_type": "code",
   "execution_count": 59,
   "id": "7552732e",
   "metadata": {},
   "outputs": [
    {
     "name": "stdout",
     "output_type": "stream",
     "text": [
      "test set RMSE: 14.679795169957243, R2: 0.8752098095699293\n"
     ]
    }
   ],
   "source": [
    "evaluate(y_test, y_hat_test)"
   ]
  },
  {
   "cell_type": "code",
   "execution_count": 60,
   "id": "583933d5",
   "metadata": {},
   "outputs": [
    {
     "name": "stdout",
     "output_type": "stream",
     "text": [
      "Saved model to disk\n"
     ]
    }
   ],
   "source": [
    "model_json = model.to_json()\n",
    "with open(\"model.json\", \"w\") as json_file:\n",
    "    json_file.write(model_json)\n",
    "\n",
    "model.save_weights(\"model2.h5\")\n",
    "print(\"Saved model to disk\")"
   ]
  },
  {
   "cell_type": "code",
   "execution_count": 61,
   "id": "6e343d3b",
   "metadata": {},
   "outputs": [
    {
     "data": {
      "image/png": "[encoded data removed]",
      "text/plain": [
       "<Figure size 2200x500 with 1 Axes>"
      ]
     },
     "metadata": {},
     "output_type": "display_data"
    }
   ],
   "source": [
    "plt.figure(figsize=(22,5))\n",
    "plt.plot(y_hat_test[0:1400], color=\"red\")\n",
    "plt.plot(y_test_clipped[0:1400], color=\"blue\")\n",
    "plt.title('RUL Prediction')\n",
    "plt.ylabel('RUL')\n",
    "plt.xlabel('Engine (units)')\n",
    "plt.legend(['predicted', 'actual data'], loc='upper left')\n",
    "plt.show()\n",
    "           "
   ]
  },
  {
   "cell_type": "markdown",
   "id": "b41a13f3-4f94-47d7-81b0-bce3cd24ccc5",
   "metadata": {},
   "source": [
    "### Load Saved Model and re-use it "
   ]
  },
  {
   "cell_type": "code",
   "execution_count": 62,
   "id": "35b9d74e-8e42-4109-b6a4-6555209deab1",
   "metadata": {},
   "outputs": [],
   "source": [
    "from tensorflow.keras.models import model_from_json\n",
    "new_model = model_from_json(model_json) "
   ]
  },
  {
   "cell_type": "code",
   "execution_count": 67,
   "id": "2bbdd5e7-e40e-4b79-a14c-156feca3a19d",
   "metadata": {},
   "outputs": [],
   "source": [
    "new_model.load_weights('model2.h5')"
   ]
  },
  {
   "cell_type": "code",
   "execution_count": 68,
   "id": "46ce9c41-600d-4c4a-9742-0cf1d07f7a1e",
   "metadata": {},
   "outputs": [],
   "source": [
    "new_model.compile(loss='mean_squared_error', optimizer='adam')"
   ]
  },
  {
   "cell_type": "code",
   "execution_count": 69,
   "id": "88328d1d-5b5e-4a72-8d72-4da644130e65",
   "metadata": {},
   "outputs": [
    {
     "name": "stdout",
     "output_type": "stream",
     "text": [
      "4/4 [==============================] - 2s 29ms/step\n"
     ]
    }
   ],
   "source": [
    "y_hat_test = new_model.predict(test_array)"
   ]
  },
  {
   "cell_type": "code",
   "execution_count": 70,
   "id": "2fd19af0-5fa8-4294-b173-fc16005961be",
   "metadata": {},
   "outputs": [
    {
     "name": "stdout",
     "output_type": "stream",
     "text": [
      "test set RMSE: 14.679795169957243, R2: 0.8752098095699293\n"
     ]
    }
   ],
   "source": [
    "evaluate(y_test, y_hat_test)"
   ]
  },
  {
   "cell_type": "code",
   "execution_count": null,
   "id": "a1e59629-1501-437f-83ce-d6faaf1f2e8a",
   "metadata": {},
   "outputs": [],
   "source": []
  }
 ],
 "metadata": {
  "kernelspec": {
   "display_name": "Python 3 (ipykernel)",
   "language": "python",
   "name": "python3"
  },
  "language_info": {
   "codemirror_mode": {
    "name": "ipython",
    "version": 3
   },
   "file_extension": ".py",
   "mimetype": "text/x-python",
   "name": "python",
   "nbconvert_exporter": "python",
   "pygments_lexer": "ipython3",
   "version": "3.10.8"
  }
 },
 "nbformat": 4,
 "nbformat_minor": 5
}
